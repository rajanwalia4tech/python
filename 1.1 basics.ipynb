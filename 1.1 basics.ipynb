{
 "cells": [
  {
   "cell_type": "markdown",
   "id": "79636835",
   "metadata": {},
   "source": [
    "## Basic operators in Python"
   ]
  },
  {
   "cell_type": "code",
   "execution_count": 4,
   "id": "d7b58c7e",
   "metadata": {},
   "outputs": [
    {
     "name": "stdout",
     "output_type": "stream",
     "text": [
      "3\n",
      "-1\n",
      "0.6666666666666666\n",
      "6\n",
      "0\n",
      "8\n",
      "2\n"
     ]
    }
   ],
   "source": [
    "print(1+2)\n",
    "print(2-3)\n",
    "print(2/3)\n",
    "print(2*3)\n",
    "print(2//3)\n",
    "print(2**3)\n",
    "print(122%20)"
   ]
  },
  {
   "cell_type": "markdown",
   "id": "4729b12c",
   "metadata": {},
   "source": [
    "### type function in python\n",
    "- type function returns the datatype of value it takes as an argument"
   ]
  },
  {
   "cell_type": "code",
   "execution_count": 7,
   "id": "d41cdefa",
   "metadata": {},
   "outputs": [
    {
     "name": "stdout",
     "output_type": "stream",
     "text": [
      "<class 'int'>\n",
      "<class 'float'>\n",
      "<class 'bool'>\n",
      "<class 'NoneType'>\n",
      "<class 'complex'>\n",
      "<class 'str'>\n",
      "<class 'str'>\n",
      "<class 'str'>\n",
      "<class 'list'>\n",
      "<class 'tuple'>\n",
      "<class 'dict'>\n",
      "<class 'list'>\n",
      "<class 'dict'>\n",
      "True in python is a integer  True True True False True True\n"
     ]
    }
   ],
   "source": [
    "print(type(1))\n",
    "print(type(1.2))\n",
    "print(type(True))\n",
    "print(type(None))\n",
    "print(type(3+5j))\n",
    "print(type(\"RAJAN\"))\n",
    "print(type('A'))\n",
    "print(type(\"R\"))\n",
    "print(type([]))\n",
    "print(type(()))\n",
    "print(type({}))\n",
    "print(type([1,2,3]))\n",
    "print(type({\"a\":1,\"b\":2}))\n",
    "print(\"True in python is a integer \", isinstance(1,int),isinstance(False,int),isinstance(True,int),isinstance(1,bool),isinstance(True,bool),isinstance(1.2,float))"
   ]
  },
  {
   "cell_type": "code",
   "execution_count": 3,
   "id": "4b18f59a",
   "metadata": {},
   "outputs": [
    {
     "name": "stdout",
     "output_type": "stream",
     "text": [
      "2\n",
      "1\n"
     ]
    }
   ],
   "source": [
    "print(1+True)\n",
    "print(1+False)"
   ]
  },
  {
   "cell_type": "markdown",
   "id": "94581a00",
   "metadata": {},
   "source": [
    "### Comparison operators in Python"
   ]
  },
  {
   "cell_type": "code",
   "execution_count": 4,
   "id": "5c23d955",
   "metadata": {},
   "outputs": [
    {
     "name": "stdout",
     "output_type": "stream",
     "text": [
      "True\n",
      "False\n",
      "True\n",
      "True\n",
      "True\n",
      "True\n",
      "False\n",
      "True\n",
      "False\n",
      "True\n"
     ]
    }
   ],
   "source": [
    "print(1==1)\n",
    "print(1!=1)\n",
    "print(1==True)\n",
    "print(0==False)\n",
    "print(111>22)\n",
    "print(111>=111)\n",
    "print(23<23)\n",
    "print(23<=23)\n",
    "print(\"abc\">\"afd\")\n",
    "print(\"abc\">\"ab\")"
   ]
  },
  {
   "cell_type": "markdown",
   "id": "ac98c485",
   "metadata": {},
   "source": [
    "### logical operators in Python\n",
    "\n",
    "- and\n",
    "- or\n",
    "- not"
   ]
  },
  {
   "cell_type": "code",
   "execution_count": 8,
   "id": "63127a91",
   "metadata": {},
   "outputs": [
    {
     "name": "stdout",
     "output_type": "stream",
     "text": [
      "True\n",
      "False\n",
      "True\n",
      "False\n",
      "True\n",
      "False\n"
     ]
    }
   ],
   "source": [
    "\n",
    "print(True and True)\n",
    "print(True and False)\n",
    "\n",
    "print(True or False)\n",
    "print(False or False)\n",
    "\n",
    "print(not False)\n",
    "print(not True)"
   ]
  },
  {
   "cell_type": "code",
   "execution_count": null,
   "id": "b3613db3",
   "metadata": {},
   "outputs": [],
   "source": []
  },
  {
   "cell_type": "markdown",
   "id": "f7f18f5c",
   "metadata": {},
   "source": [
    "## Conditional Flow in Python"
   ]
  },
  {
   "cell_type": "code",
   "execution_count": 9,
   "id": "dfb99ea3",
   "metadata": {},
   "outputs": [
    {
     "name": "stdout",
     "output_type": "stream",
     "text": [
      "2nd Division\n"
     ]
    }
   ],
   "source": [
    "x=40\n",
    "if(x>=90):\n",
    "    print(\"Topper\")\n",
    "elif(x>=80):\n",
    "    print(\"Merit\")\n",
    "elif(x>=60):\n",
    "    print(\"Ist Division\")\n",
    "elif(x>=40):\n",
    "    print(\"2nd Division\")\n",
    "else:\n",
    "    print(\"Fail\")"
   ]
  },
  {
   "cell_type": "code",
   "execution_count": 10,
   "id": "ee8b8c0e",
   "metadata": {},
   "outputs": [
    {
     "name": "stdout",
     "output_type": "stream",
     "text": [
      "Not a leap year\n"
     ]
    }
   ],
   "source": [
    "year = 1231\n",
    "if(year%4==0):\n",
    "    if(year%100==0):\n",
    "        if(year%400==0):\n",
    "            print(\"Leap Year\")\n",
    "        else:\n",
    "            print(\"Not a Leap Year\")\n",
    "    else:\n",
    "        print(\"Leap Year\")\n",
    "else:\n",
    "    print(\"Not a leap year\")"
   ]
  },
  {
   "cell_type": "markdown",
   "id": "c8a4bf05",
   "metadata": {},
   "source": [
    "## Control Flow in Python"
   ]
  },
  {
   "cell_type": "code",
   "execution_count": 11,
   "id": "656b31b2",
   "metadata": {},
   "outputs": [
    {
     "name": "stdout",
     "output_type": "stream",
     "text": [
      "Python  5\n",
      "Python  4\n",
      "Python  3\n",
      "Python  2\n",
      "Python  1\n"
     ]
    }
   ],
   "source": [
    "a=5\n",
    "while(a>0):\n",
    "    print(\"Python \",a)\n",
    "    a-=1\n"
   ]
  },
  {
   "cell_type": "code",
   "execution_count": 12,
   "id": "f76f0a5f",
   "metadata": {},
   "outputs": [
    {
     "name": "stdout",
     "output_type": "stream",
     "text": [
      "0\n",
      "1\n",
      "2\n",
      "3\n",
      "4\n"
     ]
    }
   ],
   "source": [
    "for i in range(5):\n",
    "    print(i)"
   ]
  },
  {
   "cell_type": "code",
   "execution_count": 13,
   "id": "3d74d3ad",
   "metadata": {},
   "outputs": [
    {
     "name": "stdout",
     "output_type": "stream",
     "text": [
      "2\n",
      "3\n",
      "4\n",
      "5\n"
     ]
    }
   ],
   "source": [
    "x = range(2,6)\n",
    "for n in x:\n",
    "  print(n)"
   ]
  },
  {
   "cell_type": "code",
   "execution_count": 10,
   "id": "0e539094",
   "metadata": {},
   "outputs": [
    {
     "name": "stdout",
     "output_type": "stream",
     "text": [
      "1\n",
      "3\n",
      "5\n",
      "7\n",
      "9\n"
     ]
    }
   ],
   "source": [
    "x = range(1,10,2)\n",
    "for n in x:\n",
    "  print(n)"
   ]
  },
  {
   "cell_type": "code",
   "execution_count": 11,
   "id": "cb41aeff",
   "metadata": {},
   "outputs": [
    {
     "name": "stdout",
     "output_type": "stream",
     "text": [
      "53 is a Prime Number\n"
     ]
    }
   ],
   "source": [
    "# check whether the given no. is prime or not\n",
    "import math\n",
    "num=53\n",
    "isPrime=True\n",
    "for i in range(2,int(math.sqrt(num))+1):\n",
    "    if(num%i==0):\n",
    "        isPrime=False\n",
    "        break\n",
    "\n",
    "if isPrime:\n",
    "    print(num,\"is a Prime Number\")\n",
    "else:\n",
    "    print(num,\"is not a Prime Number\")"
   ]
  },
  {
   "cell_type": "code",
   "execution_count": 12,
   "id": "1c7de674",
   "metadata": {},
   "outputs": [
    {
     "name": "stdout",
     "output_type": "stream",
     "text": [
      "2\n",
      "3\n",
      "5\n",
      "7\n",
      "11\n",
      "13\n",
      "17\n",
      "19\n"
     ]
    }
   ],
   "source": [
    "# Print all the prime no. from 2 to n\n",
    "n=20\n",
    "for j in range(2,n+1):\n",
    "    isPrime=True\n",
    "    for i in range(2,int(math.sqrt(j))+1):\n",
    "        if(j%i==0):\n",
    "            isPrime=False\n",
    "            break\n",
    "    if isPrime:\n",
    "        print(j)"
   ]
  },
  {
   "cell_type": "code",
   "execution_count": 20,
   "id": "4ac118b4",
   "metadata": {},
   "outputs": [
    {
     "name": "stdout",
     "output_type": "stream",
     "text": [
      "10\n",
      "8\n",
      "7\n",
      "5\n",
      "4\n",
      "2\n",
      "1\n"
     ]
    }
   ],
   "source": [
    "n=10\n",
    "while n>0:\n",
    "    if(n%3==0):\n",
    "        n-=1\n",
    "        continue\n",
    "    print(n)\n",
    "    n-=1"
   ]
  },
  {
   "cell_type": "code",
   "execution_count": null,
   "id": "daffe7a3",
   "metadata": {},
   "outputs": [],
   "source": []
  },
  {
   "cell_type": "code",
   "execution_count": null,
   "id": "9afea0df",
   "metadata": {},
   "outputs": [],
   "source": []
  }
 ],
 "metadata": {
  "kernelspec": {
   "display_name": "Python 3 (ipykernel)",
   "language": "python",
   "name": "python3"
  },
  "language_info": {
   "codemirror_mode": {
    "name": "ipython",
    "version": 3
   },
   "file_extension": ".py",
   "mimetype": "text/x-python",
   "name": "python",
   "nbconvert_exporter": "python",
   "pygments_lexer": "ipython3",
   "version": "3.9.14"
  }
 },
 "nbformat": 4,
 "nbformat_minor": 5
}
