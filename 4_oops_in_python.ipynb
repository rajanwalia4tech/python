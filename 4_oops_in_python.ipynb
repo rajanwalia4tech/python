{
 "cells": [
  {
   "cell_type": "markdown",
   "id": "15042755",
   "metadata": {},
   "source": [
    "# OOPs in Python"
   ]
  },
  {
   "cell_type": "markdown",
   "id": "21b90a2a",
   "metadata": {},
   "source": [
    "- In all the programs we wrote till now, we have designed our program around functions i.e. blocks of statements which manipulate data. This is called the **procedure-oriented way of programming**.\n",
    "\n",
    "\n",
    "- There is another way of organizing your program which is to combine data and functionality and wrap it inside something called an object. This is called the **object oriented programming paradigm**.\n",
    "\n",
    "\n",
    "- Most of the time you can use procedural programming, but when writing large programs or have a problem that is better suited to this method, you can use object oriented programming techniques.\n",
    "\n",
    "\n",
    "- Classes and objects are the two main aspects of object oriented programming. A class creates a new type where objects are instances of the class."
   ]
  },
  {
   "cell_type": "code",
   "execution_count": null,
   "id": "03cbf875",
   "metadata": {},
   "outputs": [],
   "source": []
  },
  {
   "cell_type": "markdown",
   "id": "d53d3efa",
   "metadata": {},
   "source": [
    "## class\n",
    "- It is a blueprint of an object.\n",
    "- Everything in Python is an object (inherits from object class) including int, float, function, class etc..."
   ]
  },
  {
   "cell_type": "code",
   "execution_count": 11,
   "id": "e2644a1e",
   "metadata": {},
   "outputs": [
    {
     "name": "stdout",
     "output_type": "stream",
     "text": [
      "<class 'object'>\n",
      "True\n",
      "True\n",
      "True\n",
      "True\n",
      "True\n"
     ]
    }
   ],
   "source": [
    "print(object)\n",
    "a = 10 \n",
    "print(isinstance(a,object))\n",
    "a = 10.22\n",
    "print(isinstance(a,object))\n",
    "print(isinstance(print,object))\n",
    "\n",
    "class A:\n",
    "    pass\n",
    "\n",
    "print(isinstance(A,object))\n",
    "a = A()\n",
    "print(isinstance(a,object))"
   ]
  },
  {
   "cell_type": "code",
   "execution_count": 20,
   "id": "f579109a",
   "metadata": {},
   "outputs": [
    {
     "name": "stdout",
     "output_type": "stream",
     "text": [
      "<__main__.Person object at 0x1088094c0>\n",
      "4437611712\n",
      "0x1088094c0\n"
     ]
    }
   ],
   "source": [
    "class Person:\n",
    "    pass\n",
    "P = Person()\n",
    "print(P) \n",
    "print(id(P)) # address of P object\n",
    "print(hex(id(P))) # hex address of P"
   ]
  },
  {
   "cell_type": "code",
   "execution_count": null,
   "id": "176d76f9",
   "metadata": {},
   "outputs": [],
   "source": []
  },
  {
   "cell_type": "code",
   "execution_count": 13,
   "id": "72daad78",
   "metadata": {},
   "outputs": [
    {
     "data": {
      "text/plain": [
       "'__main__'"
      ]
     },
     "execution_count": 13,
     "metadata": {},
     "output_type": "execute_result"
    }
   ],
   "source": [
    "__name__\n"
   ]
  },
  {
   "cell_type": "markdown",
   "id": "04b835a5",
   "metadata": {},
   "source": [
    "## Class With a method"
   ]
  },
  {
   "cell_type": "markdown",
   "id": "d6e941e6",
   "metadata": {},
   "source": [
    "Class methods have only one specific difference from ordinary functions - they must have an extra first name that has to be added to the beginning of the parameter list, but you do not give a value for this parameter when you call the method, Python will provide it. This particular variable refers to the object itself, and by convention, it is given the name self."
   ]
  },
  {
   "cell_type": "code",
   "execution_count": 2,
   "id": "71123f09",
   "metadata": {},
   "outputs": [],
   "source": [
    "class Math:\n",
    "    def add(a, b):\n",
    "        return a+b\n",
    "    \n",
    "    def sub(a, b):\n",
    "        return a-b"
   ]
  },
  {
   "cell_type": "code",
   "execution_count": 7,
   "id": "e83f9906",
   "metadata": {},
   "outputs": [
    {
     "data": {
      "text/plain": [
       "57"
      ]
     },
     "execution_count": 7,
     "metadata": {},
     "output_type": "execute_result"
    }
   ],
   "source": [
    "Math.add(23,34)"
   ]
  },
  {
   "cell_type": "code",
   "execution_count": 8,
   "id": "0e5cbbf8",
   "metadata": {},
   "outputs": [
    {
     "data": {
      "text/plain": [
       "30"
      ]
     },
     "execution_count": 8,
     "metadata": {},
     "output_type": "execute_result"
    }
   ],
   "source": [
    "Math.sub(33,3)"
   ]
  },
  {
   "cell_type": "code",
   "execution_count": 37,
   "id": "75985813",
   "metadata": {},
   "outputs": [
    {
     "name": "stdout",
     "output_type": "stream",
     "text": [
      "<__main__.Person object at 0x1089a5970>\n",
      "Hello Mukul\n",
      "None\n",
      "Hello Mukul\n",
      "None\n"
     ]
    }
   ],
   "source": [
    "class Person:\n",
    "    name = \"Mukul\"\n",
    "    def getName(self):\n",
    "        print('Hello',self.name)\n",
    "        \n",
    "p = Person()\n",
    "print(p)\n",
    "print(p.getName())\n",
    "print(Person.getName(p))"
   ]
  },
  {
   "cell_type": "markdown",
   "id": "91e9c5fa",
   "metadata": {},
   "source": [
    "## The __init__ method"
   ]
  },
  {
   "cell_type": "code",
   "execution_count": 46,
   "id": "3ceac412",
   "metadata": {},
   "outputs": [
    {
     "name": "stdout",
     "output_type": "stream",
     "text": [
      "Hello,  Rajan Walia\n",
      "Hello,  Rajan Walia\n"
     ]
    }
   ],
   "source": [
    "class Person:\n",
    "    def __init__(self,name):\n",
    "        self.name = name\n",
    "    \n",
    "    def getName(self):\n",
    "        print(\"Hello, \", self.name)\n",
    "\n",
    "p = Person(\"Rajan Walia\")\n",
    "p.getName()\n",
    "\n",
    "Person.getName(p)"
   ]
  },
  {
   "cell_type": "markdown",
   "id": "9e4542d8",
   "metadata": {},
   "source": [
    "## Dunders and Magic Functions in Python"
   ]
  },
  {
   "cell_type": "code",
   "execution_count": 96,
   "id": "028be5e6",
   "metadata": {},
   "outputs": [],
   "source": [
    "class Car:\n",
    "    def __init__(self, model, mileage):\n",
    "        self.model = model\n",
    "        self.mileage = mileage\n",
    "    \n",
    "    def __str__(self):\n",
    "        return \"model: {} mileage: {}\".format(self.model, self.mileage)\n",
    "    \n",
    "    def __eq__(self, other):\n",
    "        return self.mileage == other.mileage\n",
    "    \n",
    "    def __gt__(self, other):\n",
    "        return self.mileage > other.mileage\n",
    "    \n",
    "    def __lt__(self, other):\n",
    "        return self.mileage < other.mileage\n",
    "\n",
    "    def __add__(self, other):\n",
    "        return self.mileage + other.mileage    "
   ]
  },
  {
   "cell_type": "code",
   "execution_count": 101,
   "id": "9ba33302",
   "metadata": {},
   "outputs": [
    {
     "name": "stdout",
     "output_type": "stream",
     "text": [
      "9 10\n",
      "19\n",
      "False\n",
      "model: suv mileage: 9\n",
      "False\n",
      "True\n"
     ]
    }
   ],
   "source": [
    "c1 = Car('suv',9) # calling the __init__ method\n",
    "c2 = Car('sedan',10)\n",
    "print(c1.mileage, c2.mileage)\n",
    "print(c1+c2) # calling the __add__ method\n",
    "print(c1 == c2) # calling the __eq__ method\n",
    "print(str(c1)) # calling the __str__method\n",
    "print(c1>c2) # calling the __gt__ method\n",
    "print(c1<c2) # calling the __lt__method"
   ]
  },
  {
   "cell_type": "markdown",
   "id": "18064edb",
   "metadata": {},
   "source": [
    "### Create the cout stream like c++ in python"
   ]
  },
  {
   "cell_type": "code",
   "execution_count": 113,
   "id": "6f9e13e2",
   "metadata": {},
   "outputs": [
    {
     "name": "stdout",
     "output_type": "stream",
     "text": [
      "RAJAN WALIA Programming is great"
     ]
    }
   ],
   "source": [
    "class OutputStream:\n",
    "    def __lshift__(self,var):\n",
    "        print(var, end=\"\")\n",
    "        return self\n",
    "cout = OutputStream()\n",
    "s = cout<<\"RAJAN\"<<\" WALIA\" << \" Programming is great\""
   ]
  },
  {
   "cell_type": "markdown",
   "id": "62ec8696",
   "metadata": {},
   "source": [
    "## Class Variable"
   ]
  },
  {
   "cell_type": "code",
   "execution_count": 173,
   "id": "8bb7e9a1",
   "metadata": {},
   "outputs": [],
   "source": [
    "class Box:\n",
    "    mobiles = [] # class Variable is shared by all object\n",
    "    def __init__(self,name):\n",
    "        self.name = name\n",
    "    \n",
    "    def addMobile(self,mobile):\n",
    "        self.mobiles.append(mobile)\n",
    "    "
   ]
  },
  {
   "cell_type": "code",
   "execution_count": 174,
   "id": "1da98302",
   "metadata": {},
   "outputs": [
    {
     "name": "stdout",
     "output_type": "stream",
     "text": [
      "['vivo', 'LG', 'Apple']\n",
      "['vivo', 'LG', 'Apple']\n",
      "['vivo', 'LG', 'Apple']\n",
      "4477218880\n",
      "4477218880\n",
      "4477218880\n"
     ]
    }
   ],
   "source": [
    "b1 = Box(\"under 3000\")\n",
    "\n",
    "b1.addMobile(\"vivo\")\n",
    "b1.addMobile(\"LG\")\n",
    "\n",
    "b2 = Box(\"above 5000\")\n",
    "b2.addMobile(\"Apple\")\n",
    "\n",
    "print(b1.mobiles) # Both b1 and b2 objects are pointing to the same mobiles list\n",
    "print(b2.mobiles)\n",
    "print(Box.mobiles)\n",
    "\n",
    "print(id(b1.mobiles)) # Both b1 and b2 objects are pointing to the same mobiles list\n",
    "print(id(b2.mobiles))\n",
    "print(id(Box.mobiles))"
   ]
  },
  {
   "cell_type": "markdown",
   "id": "0f69be1a",
   "metadata": {},
   "source": [
    "## Instance Variable is unique to each object"
   ]
  },
  {
   "cell_type": "code",
   "execution_count": 169,
   "id": "9108ce11",
   "metadata": {},
   "outputs": [],
   "source": [
    "class Box:\n",
    "    \n",
    "    def __init__(self,name):\n",
    "        self.name = name\n",
    "        self.mobiles = [] # Instance variable is unique to each object\n",
    "    \n",
    "    def addMobile(self,mobile):\n",
    "        self.mobiles.append(mobile)"
   ]
  },
  {
   "cell_type": "code",
   "execution_count": 170,
   "id": "1f5b6e9c",
   "metadata": {},
   "outputs": [
    {
     "name": "stdout",
     "output_type": "stream",
     "text": [
      "['vivo', 'LG']\n",
      "['Apple']\n",
      "4477233152\n",
      "4477232128\n"
     ]
    }
   ],
   "source": [
    "b1 = Box(\"under 3000\")\n",
    "\n",
    "b1.addMobile(\"vivo\")\n",
    "b1.addMobile(\"LG\")\n",
    "\n",
    "b2 = Box(\"above 5000\")\n",
    "b2.addMobile(\"Apple\")\n",
    "\n",
    "print(b1.mobiles) # Both b1 and b2 objects are pointing to the different mobiles list\n",
    "print(b2.mobiles)\n",
    "\n",
    "\n",
    "print(id(b1.mobiles)) # Both b1 and b2 objects are pointing to the different  mobiles list\n",
    "print(id(b2.mobiles))\n"
   ]
  },
  {
   "cell_type": "markdown",
   "id": "9c468aa1",
   "metadata": {},
   "source": [
    "## Inheritence"
   ]
  },
  {
   "cell_type": "markdown",
   "id": "6fb5478b",
   "metadata": {},
   "source": [
    "One of the major benefits of object oriented programming is reuse of code and one of the ways this is achieved is through the inheritance mechanism. Inheritance can be best imagined as implementing a type and subtype relationship between classes.\n",
    "\n"
   ]
  },
  {
   "cell_type": "code",
   "execution_count": 167,
   "id": "5d6f7594",
   "metadata": {},
   "outputs": [
    {
     "name": "stdout",
     "output_type": "stream",
     "text": [
      "(Initialized SchoolMember: Mr. Ujjwal)\n",
      "heya !\n",
      "(Initialized Teacher: Mr. Ujjwal)\n",
      "heya !\n",
      "(Initialized SchoolMember: Nikhil)\n",
      "heya !\n",
      "(Initialized Student: Nikhil)\n",
      "Name:\"Nikhil\" Age:\"25\" Marks: \"75\"\n",
      "Name:\"Mr. Ujjwal\" Age:\"40\" Salary: \"30000\"\n"
     ]
    }
   ],
   "source": [
    "class SchoolMember:\n",
    "    '''Represents any school member.'''\n",
    "    def __init__(self, name, age):\n",
    "        self.name = name\n",
    "        self.age = age\n",
    "        print('(Initialized SchoolMember: {})'.format(self.name))\n",
    "        self.base()\n",
    "\n",
    "    def tell(self):\n",
    "        '''Tell my details.'''\n",
    "        print('Name:\"{}\" Age:\"{}\"'.format(self.name, self.age), end=\" \")\n",
    "        \n",
    "    def base(self):\n",
    "        print(\"heya !\")\n",
    "\n",
    "class Teacher(SchoolMember):\n",
    "    '''Represents a teacher.'''\n",
    "    def __init__(self, name, age, salary):\n",
    "        SchoolMember.__init__(self, name, age)\n",
    "#         self.name = name\n",
    "#         self.age = age\n",
    "        self.salary = salary\n",
    "        print('(Initialized Teacher: {})'.format(self.name))\n",
    "        self.base()\n",
    "\n",
    "    def tell(self):\n",
    "        SchoolMember.tell(self)\n",
    "        print('Salary: \"{:d}\"'.format(self.salary))\n",
    "        \n",
    "        \n",
    "class Student(SchoolMember):\n",
    "    '''Represents a student.'''\n",
    "    def __init__(self, name, age, marks):\n",
    "#         SchoolMember.__init__(self, name, age)\n",
    "        super().__init__(name,age)  # can also call in this way\n",
    "        self.marks = marks\n",
    "        print('(Initialized Student: {})'.format(self.name))\n",
    "\n",
    "    def tell(self):\n",
    "        SchoolMember.tell(self)\n",
    "        print('Marks: \"{:d}\"'.format(self.marks))\n",
    "\n",
    "        \n",
    "t = Teacher('Mr. Ujjwal', 40, 30000)\n",
    "s = Student('Nikhil', 25, 75)\n",
    "s.tell()\n",
    "t.tell()"
   ]
  },
  {
   "cell_type": "code",
   "execution_count": null,
   "id": "cb341154",
   "metadata": {},
   "outputs": [],
   "source": []
  },
  {
   "cell_type": "code",
   "execution_count": 168,
   "id": "80aaa95d",
   "metadata": {},
   "outputs": [
    {
     "ename": "ModuleNotFoundError",
     "evalue": "No module named '_tkinter'",
     "output_type": "error",
     "traceback": [
      "\u001b[0;31m---------------------------------------------------------------------------\u001b[0m",
      "\u001b[0;31mModuleNotFoundError\u001b[0m                       Traceback (most recent call last)",
      "Input \u001b[0;32mIn [168]\u001b[0m, in \u001b[0;36m<cell line: 1>\u001b[0;34m()\u001b[0m\n\u001b[0;32m----> 1\u001b[0m \u001b[38;5;28;01mfrom\u001b[39;00m \u001b[38;5;21;01mtkinter\u001b[39;00m \u001b[38;5;28;01mimport\u001b[39;00m \u001b[38;5;241m*\u001b[39m\n\u001b[1;32m      3\u001b[0m \u001b[38;5;28;01mclass\u001b[39;00m \u001b[38;5;21;01mEvaluater\u001b[39;00m:\n\u001b[1;32m      4\u001b[0m     \u001b[38;5;28;01mdef\u001b[39;00m \u001b[38;5;21m__init__\u001b[39m(\u001b[38;5;28mself\u001b[39m):\n",
      "File \u001b[0;32m/opt/homebrew/Cellar/python@3.9/3.9.14/Frameworks/Python.framework/Versions/3.9/lib/python3.9/tkinter/__init__.py:37\u001b[0m, in \u001b[0;36m<module>\u001b[0;34m\u001b[0m\n\u001b[1;32m     34\u001b[0m \u001b[38;5;28;01mimport\u001b[39;00m \u001b[38;5;21;01msys\u001b[39;00m\n\u001b[1;32m     35\u001b[0m \u001b[38;5;28;01mimport\u001b[39;00m \u001b[38;5;21;01mtypes\u001b[39;00m\n\u001b[0;32m---> 37\u001b[0m \u001b[38;5;28;01mimport\u001b[39;00m \u001b[38;5;21;01m_tkinter\u001b[39;00m \u001b[38;5;66;03m# If this fails your Python may not be configured for Tk\u001b[39;00m\n\u001b[1;32m     38\u001b[0m TclError \u001b[38;5;241m=\u001b[39m _tkinter\u001b[38;5;241m.\u001b[39mTclError\n\u001b[1;32m     39\u001b[0m \u001b[38;5;28;01mfrom\u001b[39;00m \u001b[38;5;21;01mtkinter\u001b[39;00m\u001b[38;5;21;01m.\u001b[39;00m\u001b[38;5;21;01mconstants\u001b[39;00m \u001b[38;5;28;01mimport\u001b[39;00m \u001b[38;5;241m*\u001b[39m\n",
      "\u001b[0;31mModuleNotFoundError\u001b[0m: No module named '_tkinter'"
     ]
    }
   ],
   "source": [
    "from tkinter import *\n",
    "\n",
    "class Evaluater:\n",
    "    def __init__(self):\n",
    "        self.root = Tk()\n",
    "        self.root.title(\"Evaluater\")\n",
    "        self.root.minsize(300,100)\n",
    "        \n",
    "        self.mylabel = Label(self.root, text=\"Your Expression:\")\n",
    "        self.mylabel.pack()\n",
    "        \n",
    "        self.myentry = Entry(self.root)\n",
    "        self.myentry.bind(\"<Return>\", self.evaluate)\n",
    "        self.myentry.pack()\n",
    "        \n",
    "        self.res = Label(self.root)\n",
    "        self.res.pack()\n",
    "        \n",
    "        self.root.mainloop()\n",
    "        \n",
    "    def evaluate(self, event):\n",
    "        self.res.configure(text = \"Result: \" + str(eval(self.myentry.get())))   "
   ]
  },
  {
   "cell_type": "markdown",
   "id": "f11fd715",
   "metadata": {},
   "source": [
    "## Topics to read\n",
    "- MRO - Method Resolution Order\n",
    "- c3 Linearization"
   ]
  },
  {
   "cell_type": "code",
   "execution_count": 175,
   "id": "bc5ecc29",
   "metadata": {},
   "outputs": [],
   "source": [
    "class A:\n",
    "    pass\n",
    "class B(A):\n",
    "    x = 5\n",
    "class C(B):\n",
    "    pass\n",
    "class D(A):\n",
    "    x = 10\n",
    "\n",
    "class E( C, D):\n",
    "    def show(self):\n",
    "        print(self.x)"
   ]
  },
  {
   "cell_type": "code",
   "execution_count": 179,
   "id": "a456135d",
   "metadata": {},
   "outputs": [
    {
     "name": "stdout",
     "output_type": "stream",
     "text": [
      "5\n"
     ]
    },
    {
     "data": {
      "text/plain": [
       "(__main__.E, __main__.C, __main__.B, __main__.D, __main__.A, object)"
      ]
     },
     "execution_count": 179,
     "metadata": {},
     "output_type": "execute_result"
    }
   ],
   "source": [
    "print(E.x)\n",
    "E.__mro__"
   ]
  },
  {
   "cell_type": "code",
   "execution_count": null,
   "id": "f377b9ca",
   "metadata": {},
   "outputs": [],
   "source": []
  },
  {
   "cell_type": "code",
   "execution_count": null,
   "id": "f3fc6b6f",
   "metadata": {},
   "outputs": [],
   "source": []
  },
  {
   "cell_type": "code",
   "execution_count": null,
   "id": "f6c1de88",
   "metadata": {},
   "outputs": [],
   "source": []
  },
  {
   "cell_type": "code",
   "execution_count": null,
   "id": "4ca829da",
   "metadata": {},
   "outputs": [],
   "source": []
  },
  {
   "cell_type": "code",
   "execution_count": null,
   "id": "71dc82da",
   "metadata": {},
   "outputs": [],
   "source": []
  },
  {
   "cell_type": "code",
   "execution_count": null,
   "id": "f12bd4b2",
   "metadata": {},
   "outputs": [],
   "source": []
  }
 ],
 "metadata": {
  "kernelspec": {
   "display_name": "Python 3 (ipykernel)",
   "language": "python",
   "name": "python3"
  },
  "language_info": {
   "codemirror_mode": {
    "name": "ipython",
    "version": 3
   },
   "file_extension": ".py",
   "mimetype": "text/x-python",
   "name": "python",
   "nbconvert_exporter": "python",
   "pygments_lexer": "ipython3",
   "version": "3.9.14"
  }
 },
 "nbformat": 4,
 "nbformat_minor": 5
}
