{
 "cells": [
  {
   "cell_type": "code",
   "execution_count": 43,
   "id": "8b82a127",
   "metadata": {},
   "outputs": [
    {
     "name": "stdout",
     "output_type": "stream",
     "text": [
      "5\n",
      "30\n",
      "100\n",
      "20\n",
      "60\n",
      "280\n",
      "50\n",
      "30\n",
      "70\n",
      "50\n",
      "20\n",
      "20\n",
      "4\n"
     ]
    }
   ],
   "source": [
    "monkeyCount = int(input())\n",
    "curPoints = int(input())\n",
    "powers = []\n",
    "bonusi = []\n",
    "for i in range(0,monkeyCount):\n",
    "    powers.append(int(input()))\n",
    "\n",
    "for i in range(0,monkeyCount):\n",
    "    bonusi.append(int(input()))\n",
    "    \n",
    "def getMaxMonkeys(powers,bonusi,curPoints,mokeyCount):\n",
    "    maxMonkeys = 0\n",
    "    for i in range(0,monkeyCount):\n",
    "        curPoints = findMinPowerMaxBonus(powers,bonusi, curPoints)\n",
    "        if(curPoints == -1):\n",
    "            break\n",
    "        maxMonkeys+=1\n",
    "        \n",
    "    return maxMonkeys # answer\n",
    "\n",
    "print(getMaxMonkeys(powers,bonusi,curPoints,monkeyCount)) # Answer\n",
    "\n",
    "def findMinPowerMaxBonus(powers,bonusi,curPoints):\n",
    "    maxBonus = -1;\n",
    "    deleteIdx = 0\n",
    "    for i in range(0,len(powers)):\n",
    "        if curPoints>= powers[i]:\n",
    "            if maxBonus<= bonusi[i]:\n",
    "                maxBonus = bonusi[i]\n",
    "                deleteIdx = i\n",
    "                \n",
    "    del powers[deleteIdx]\n",
    "    del bonusi[deleteIdx]\n",
    "    return -1 if maxBonus == -1 else maxBonus+curPoints\n"
   ]
  },
  {
   "cell_type": "code",
   "execution_count": 12,
   "id": "2e2d32f8",
   "metadata": {},
   "outputs": [
    {
     "name": "stdout",
     "output_type": "stream",
     "text": [
      "abccdcabacda\n",
      "2\n"
     ]
    }
   ],
   "source": [
    "str = input()\n",
    "\n",
    "def maxCuts(str):\n",
    " \n",
    "    mp = dict()\n",
    "    for s in str:\n",
    "        if s in mp.keys():\n",
    "            mp[s] += 1\n",
    "        else:\n",
    "            mp[s] = 1\n",
    "    min = 2147483637 # max value\n",
    "    for x in mp:\n",
    "        if mp[x]<=min:\n",
    "            min = mp[x]\n",
    "    return 1 if min == 2147483637 else min\n",
    " \n",
    "print(maxCuts(str))"
   ]
  },
  {
   "cell_type": "code",
   "execution_count": 13,
   "id": "49a2e59f",
   "metadata": {},
   "outputs": [
    {
     "name": "stdout",
     "output_type": "stream",
     "text": [
      "234 34\n",
      "234 34\n"
     ]
    }
   ],
   "source": [
    "m, n = input().split()\n",
    "print(m,n)"
   ]
  },
  {
   "cell_type": "markdown",
   "id": "fd9a09cd",
   "metadata": {},
   "source": [
    "power = [100,20,60, 280, 50]\n",
    "bonusi= [30,70,50,  20, 20]\n",
    "cur = 50+70 = 120+50=170+30= 200+20 = 240\n",
    "cur = 100+70=150+\n",
    "\n"
   ]
  }
 ],
 "metadata": {
  "kernelspec": {
   "display_name": "Python 3 (ipykernel)",
   "language": "python",
   "name": "python3"
  },
  "language_info": {
   "codemirror_mode": {
    "name": "ipython",
    "version": 3
   },
   "file_extension": ".py",
   "mimetype": "text/x-python",
   "name": "python",
   "nbconvert_exporter": "python",
   "pygments_lexer": "ipython3",
   "version": "3.9.15"
  }
 },
 "nbformat": 4,
 "nbformat_minor": 5
}
