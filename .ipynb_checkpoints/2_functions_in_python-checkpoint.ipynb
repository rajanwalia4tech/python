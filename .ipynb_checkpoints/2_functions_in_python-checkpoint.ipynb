{
 "cells": [
  {
   "cell_type": "code",
   "execution_count": 1,
   "id": "131af309",
   "metadata": {},
   "outputs": [
    {
     "name": "stdout",
     "output_type": "stream",
     "text": [
      "Hello\n",
      "30\n"
     ]
    }
   ],
   "source": [
    "print(\"Hello\")\n",
    "a =10\n",
    "b=20\n",
    "print(a+b)"
   ]
  },
  {
   "cell_type": "code",
   "execution_count": 4,
   "id": "660b948f",
   "metadata": {},
   "outputs": [
    {
     "data": {
      "text/plain": [
       "'   Hello, 23.222222 Rajan,23.222222 I am 10'"
      ]
     },
     "execution_count": 4,
     "metadata": {},
     "output_type": "execute_result"
    }
   ],
   "source": [
    "s = \"   Hello, {2} Rajan,{2} I am {0}\"\n",
    "a = 10\n",
    "b = \"rajan\"\n",
    "c = 23.222222\n",
    "s.format(a,b,c)"
   ]
  },
  {
   "cell_type": "markdown",
   "id": "6cba5eb0",
   "metadata": {},
   "source": [
    "### Function parameters "
   ]
  },
  {
   "cell_type": "code",
   "execution_count": 9,
   "id": "1c7b8270",
   "metadata": {},
   "outputs": [],
   "source": [
    "def printf(x,y,*args,a,b,c,**kwargs):\n",
    "    print(\"x \",x)\n",
    "    print(\"y \",y)\n",
    "    print(\"a \",a)\n",
    "    print(\"b \",b)\n",
    "    print(\"c \",c)\n",
    "    print(args) # tuple \n",
    "    print(kwargs) # dictionary\n",
    "    [print(key, value) for key,value in kwargs.items()]"
   ]
  },
  {
   "cell_type": "code",
   "execution_count": 6,
   "id": "e5d4a905",
   "metadata": {},
   "outputs": [
    {
     "name": "stdout",
     "output_type": "stream",
     "text": [
      "x  122\n",
      "y  333\n",
      "a  34\n",
      "b  14\n",
      "c  12\n",
      "(1, 2, 3)\n",
      "{'name': 'Rajan', 'salary': 50000}\n",
      "name Rajan\n",
      "salary 50000\n"
     ]
    }
   ],
   "source": [
    "printf(122,333,1,2,3,c=12,a=34,b=14,name=\"Rajan\",salary=50000)"
   ]
  },
  {
   "cell_type": "code",
   "execution_count": null,
   "id": "245197f8",
   "metadata": {},
   "outputs": [],
   "source": []
  },
  {
   "cell_type": "markdown",
   "id": "319ef04f",
   "metadata": {},
   "source": [
    "###  return in try catch"
   ]
  },
  {
   "cell_type": "code",
   "execution_count": 11,
   "id": "91c2346f",
   "metadata": {},
   "outputs": [],
   "source": [
    "def sum(a,b):\n",
    "    try:\n",
    "        return a/b\n",
    "    except:\n",
    "        print(\"error\")\n",
    "    finally:\n",
    "        print(\"Finally will always execute\")\n",
    "        #return 100000 # if finally has return value then it will override the previously return value"
   ]
  },
  {
   "cell_type": "code",
   "execution_count": 12,
   "id": "8b45f91e",
   "metadata": {},
   "outputs": [
    {
     "name": "stdout",
     "output_type": "stream",
     "text": [
      "Finally will always execute\n"
     ]
    },
    {
     "data": {
      "text/plain": [
       "100000"
      ]
     },
     "execution_count": 12,
     "metadata": {},
     "output_type": "execute_result"
    }
   ],
   "source": [
    "sum(10,20)"
   ]
  },
  {
   "cell_type": "markdown",
   "id": "e73eb0d4",
   "metadata": {},
   "source": [
    "### Function inside function"
   ]
  },
  {
   "cell_type": "code",
   "execution_count": 122,
   "id": "8115af5a",
   "metadata": {},
   "outputs": [],
   "source": [
    "x = 10\n",
    "def outer():\n",
    "    print(\"Hello\")\n",
    "    global x\n",
    "    x=15\n",
    "    print(x)"
   ]
  },
  {
   "cell_type": "code",
   "execution_count": 123,
   "id": "ba003659",
   "metadata": {},
   "outputs": [
    {
     "name": "stdout",
     "output_type": "stream",
     "text": [
      "Hello\n",
      "15\n",
      "15\n"
     ]
    }
   ],
   "source": [
    "outer()\n",
    "print(x)"
   ]
  },
  {
   "cell_type": "code",
   "execution_count": 4,
   "id": "6db7a8a5",
   "metadata": {},
   "outputs": [],
   "source": [
    "x = 10\n",
    "def outer():\n",
    "    print(\"Hello Rajan\")\n",
    "    global x\n",
    "    x=15\n",
    "    print(x)\n",
    "    def inner():\n",
    "        x=223\n",
    "        print(x)\n",
    "    inner()"
   ]
  },
  {
   "cell_type": "code",
   "execution_count": 5,
   "id": "899a4393",
   "metadata": {},
   "outputs": [
    {
     "name": "stdout",
     "output_type": "stream",
     "text": [
      "Hello Rajan\n",
      "15\n",
      "223\n"
     ]
    }
   ],
   "source": [
    "outer()"
   ]
  },
  {
   "cell_type": "code",
   "execution_count": null,
   "id": "f0ae2849",
   "metadata": {},
   "outputs": [],
   "source": []
  },
  {
   "cell_type": "code",
   "execution_count": null,
   "id": "278395bd",
   "metadata": {},
   "outputs": [],
   "source": []
  },
  {
   "cell_type": "code",
   "execution_count": null,
   "id": "c98efff3",
   "metadata": {},
   "outputs": [],
   "source": []
  },
  {
   "cell_type": "code",
   "execution_count": null,
   "id": "8683531c",
   "metadata": {},
   "outputs": [],
   "source": []
  },
  {
   "cell_type": "code",
   "execution_count": null,
   "id": "05a48f4b",
   "metadata": {},
   "outputs": [],
   "source": []
  }
 ],
 "metadata": {
  "kernelspec": {
   "display_name": "Python 3 (ipykernel)",
   "language": "python",
   "name": "python3"
  },
  "language_info": {
   "codemirror_mode": {
    "name": "ipython",
    "version": 3
   },
   "file_extension": ".py",
   "mimetype": "text/x-python",
   "name": "python",
   "nbconvert_exporter": "python",
   "pygments_lexer": "ipython3",
   "version": "3.9.14"
  },
  "vscode": {
   "interpreter": {
    "hash": "b0fa6594d8f4cbf19f97940f81e996739fb7646882a419484c72d19e05852a7e"
   }
  }
 },
 "nbformat": 4,
 "nbformat_minor": 5
}
