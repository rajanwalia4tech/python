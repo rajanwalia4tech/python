{
 "cells": [
  {
   "cell_type": "markdown",
   "id": "15042755",
   "metadata": {},
   "source": [
    "# OOPs in Python"
   ]
  },
  {
   "cell_type": "markdown",
   "id": "cd8ece39",
   "metadata": {},
   "source": [
    "- In all the programs we wrote till now, we have designed our program around functions i.e. blocks of statements which manipulate data. This is called the **procedure-oriented way of programming**.\n",
    "\n",
    "\n",
    "- There is another way of organizing your program which is to combine data and functionality and wrap it inside something called an object. This is called the **object oriented programming paradigm**.\n",
    "\n",
    "\n",
    "- Most of the time you can use procedural programming, but when writing large programs or have a problem that is better suited to this method, you can use object oriented programming techniques.\n",
    "\n",
    "\n",
    "- Classes and objects are the two main aspects of object oriented programming. A class creates a new type where objects are instances of the class."
   ]
  },
  {
   "cell_type": "code",
   "execution_count": null,
   "id": "170c8ada",
   "metadata": {},
   "outputs": [],
   "source": []
  },
  {
   "cell_type": "markdown",
   "id": "d53d3efa",
   "metadata": {},
   "source": [
    "## class\n",
    "- It is a blueprint of an object.\n",
    "- Everything in Python is an object (inherits from object class) including int, float, function, class etc..."
   ]
  },
  {
   "cell_type": "code",
   "execution_count": 11,
   "id": "e2644a1e",
   "metadata": {},
   "outputs": [
    {
     "name": "stdout",
     "output_type": "stream",
     "text": [
      "<class 'object'>\n",
      "True\n",
      "True\n",
      "True\n",
      "True\n",
      "True\n"
     ]
    }
   ],
   "source": [
    "print(object)\n",
    "a = 10 \n",
    "print(isinstance(a,object))\n",
    "a = 10.22\n",
    "print(isinstance(a,object))\n",
    "print(isinstance(print,object))\n",
    "\n",
    "class A:\n",
    "    pass\n",
    "\n",
    "print(isinstance(A,object))\n",
    "a = A()\n",
    "print(isinstance(a,object))"
   ]
  },
  {
   "cell_type": "code",
   "execution_count": 20,
   "id": "32fad128",
   "metadata": {},
   "outputs": [
    {
     "name": "stdout",
     "output_type": "stream",
     "text": [
      "<__main__.Person object at 0x1088094c0>\n",
      "4437611712\n",
      "0x1088094c0\n"
     ]
    }
   ],
   "source": [
    "class Person:\n",
    "    pass\n",
    "P = Person()\n",
    "print(P) \n",
    "print(id(P)) # address of P object\n",
    "print(hex(id(P))) # hex address of P"
   ]
  },
  {
   "cell_type": "code",
   "execution_count": null,
   "id": "e2450496",
   "metadata": {},
   "outputs": [],
   "source": []
  },
  {
   "cell_type": "code",
   "execution_count": 13,
   "id": "c03d78a2",
   "metadata": {},
   "outputs": [
    {
     "data": {
      "text/plain": [
       "'__main__'"
      ]
     },
     "execution_count": 13,
     "metadata": {},
     "output_type": "execute_result"
    }
   ],
   "source": [
    "__name__\n"
   ]
  },
  {
   "cell_type": "markdown",
   "id": "024d2ce6",
   "metadata": {},
   "source": [
    "## Class With a method"
   ]
  },
  {
   "cell_type": "markdown",
   "id": "ad79ddae",
   "metadata": {},
   "source": [
    "Class methods have only one specific difference from ordinary functions - they must have an extra first name that has to be added to the beginning of the parameter list, but you do not give a value for this parameter when you call the method, Python will provide it. This particular variable refers to the object itself, and by convention, it is given the name self."
   ]
  },
  {
   "cell_type": "code",
   "execution_count": 2,
   "id": "8fc9af7b",
   "metadata": {},
   "outputs": [],
   "source": [
    "class Math:\n",
    "    def add(a, b):\n",
    "        return a+b\n",
    "    \n",
    "    def sub(a, b):\n",
    "        return a-b"
   ]
  },
  {
   "cell_type": "code",
   "execution_count": 7,
   "id": "57869617",
   "metadata": {},
   "outputs": [
    {
     "data": {
      "text/plain": [
       "57"
      ]
     },
     "execution_count": 7,
     "metadata": {},
     "output_type": "execute_result"
    }
   ],
   "source": [
    "Math.add(23,34)"
   ]
  },
  {
   "cell_type": "code",
   "execution_count": 8,
   "id": "5810b791",
   "metadata": {},
   "outputs": [
    {
     "data": {
      "text/plain": [
       "30"
      ]
     },
     "execution_count": 8,
     "metadata": {},
     "output_type": "execute_result"
    }
   ],
   "source": [
    "Math.sub(33,3)"
   ]
  },
  {
   "cell_type": "code",
   "execution_count": 37,
   "id": "d6f22180",
   "metadata": {},
   "outputs": [
    {
     "name": "stdout",
     "output_type": "stream",
     "text": [
      "<__main__.Person object at 0x1089a5970>\n",
      "Hello Mukul\n",
      "None\n",
      "Hello Mukul\n",
      "None\n"
     ]
    }
   ],
   "source": [
    "class Person:\n",
    "    name = \"Mukul\"\n",
    "    def getName(self):\n",
    "        print('Hello',self.name)\n",
    "        \n",
    "p = Person()\n",
    "print(p)\n",
    "print(p.getName())\n",
    "print(Person.getName(p))"
   ]
  },
  {
   "cell_type": "markdown",
   "id": "4ef74736",
   "metadata": {},
   "source": [
    "## The __init__ method"
   ]
  },
  {
   "cell_type": "code",
   "execution_count": 46,
   "id": "9377a829",
   "metadata": {},
   "outputs": [
    {
     "name": "stdout",
     "output_type": "stream",
     "text": [
      "Hello,  Rajan Walia\n",
      "Hello,  Rajan Walia\n"
     ]
    }
   ],
   "source": [
    "class Person:\n",
    "    def __init__(self,name):\n",
    "        self.name = name\n",
    "    \n",
    "    def getName(self):\n",
    "        print(\"Hello, \", self.name)\n",
    "\n",
    "p = Person(\"Rajan Walia\")\n",
    "p.getName()\n",
    "\n",
    "Person.getName(p)"
   ]
  },
  {
   "cell_type": "markdown",
   "id": "5512f9b2",
   "metadata": {},
   "source": [
    "## Dunders and Magic Functions in Python"
   ]
  },
  {
   "cell_type": "code",
   "execution_count": 72,
   "id": "f10a2a91",
   "metadata": {},
   "outputs": [],
   "source": [
    "class Car:\n",
    "    def __init__(self, model, mileage):\n",
    "        self.model = model\n",
    "        self.mileage = mileage\n",
    "    \n",
    "    def __str__(self):\n",
    "        return \"model: {} mileage: {}\".format(self.model, self.mileage)\n",
    "    \n",
    "    def __eq__(self, other):\n",
    "        return self.mileage == other.mileage\n",
    "    \n",
    "    def __gt__(self, other):\n",
    "        return self.mileage > other.mileage\n",
    "    \n",
    "    def __lt__(self, other):\n",
    "        return False\n",
    "\n",
    "    def __add__(self, other):\n",
    "        return self.mileage + other.mileage    "
   ]
  },
  {
   "cell_type": "code",
   "execution_count": 84,
   "id": "a0974e7b",
   "metadata": {},
   "outputs": [
    {
     "name": "stdout",
     "output_type": "stream",
     "text": [
      "9 10\n",
      "19\n",
      "False\n",
      "model: suv mileage: 9\n",
      "False\n"
     ]
    }
   ],
   "source": [
    "c1 = Car('suv',9) # calling the __init__ method\n",
    "c2 = Car('sedan',10)\n",
    "print(c1.mileage, c2.mileage)\n",
    "print(c1+c2) # calling the __add__ method\n",
    "print(c1 == c2) # calling the __eq__ method\n",
    "print(str(c1)) # calling the __str__method\n",
    "print(c1>c2)"
   ]
  },
  {
   "cell_type": "code",
   "execution_count": null,
   "id": "6436e427",
   "metadata": {},
   "outputs": [],
   "source": []
  },
  {
   "cell_type": "code",
   "execution_count": null,
   "id": "4f3492ab",
   "metadata": {},
   "outputs": [],
   "source": []
  }
 ],
 "metadata": {
  "kernelspec": {
   "display_name": "Python 3 (ipykernel)",
   "language": "python",
   "name": "python3"
  },
  "language_info": {
   "codemirror_mode": {
    "name": "ipython",
    "version": 3
   },
   "file_extension": ".py",
   "mimetype": "text/x-python",
   "name": "python",
   "nbconvert_exporter": "python",
   "pygments_lexer": "ipython3",
   "version": "3.9.14"
  }
 },
 "nbformat": 4,
 "nbformat_minor": 5
}
