{
 "cells": [
  {
   "cell_type": "markdown",
   "id": "6a3cdc1c",
   "metadata": {},
   "source": [
    "## Address of a variable in Python \n",
    "- id(variable_name) function is used to find the address of a variable in python\n",
    "- In python if variables have values in the range [-5,256] then they will be assign same address or they point to same value."
   ]
  },
  {
   "cell_type": "code",
   "execution_count": 6,
   "id": "f4494955",
   "metadata": {},
   "outputs": [
    {
     "name": "stdout",
     "output_type": "stream",
     "text": [
      "4304181040 4304181040 True\n",
      "4354839664 4354839664 True\n",
      "4355172624 4355174320 False\n",
      "4312838296 4312838296 True\n",
      "4355172432 4355172368 False\n"
     ]
    }
   ],
   "source": [
    "a= 111\n",
    "b= 111\n",
    "print(id(a),id(b), id(a)==id(b))\n",
    "a=\"Rajan\"\n",
    "b= \"Rajan\"\n",
    "print(id(a),id(b), id(a)==id(b))\n",
    "a=11.22\n",
    "b=11.22\n",
    "print(id(a),id(b), id(a) == id(b)) # rule doesn't apply to float variables\n",
    "a=True\n",
    "b=True\n",
    "print(id(a),id(b), id(a) == id(b))\n",
    "a = 11111\n",
    "b = 11111\n",
    "print(id(a),id(b), id(a) == id(b))"
   ]
  },
  {
   "cell_type": "markdown",
   "id": "4e16008a",
   "metadata": {},
   "source": [
    "## Strings in Python\n",
    "- Strings are immutable in Python like we can't change the value of any index of a string"
   ]
  },
  {
   "cell_type": "code",
   "execution_count": 7,
   "id": "cbc565a7",
   "metadata": {},
   "outputs": [
    {
     "name": "stdout",
     "output_type": "stream",
     "text": [
      "Hello\n",
      "Hello\n"
     ]
    }
   ],
   "source": [
    "name=\"Hello\"\n",
    "print(name)\n",
    "name = 'Hello'\n",
    "print(name)"
   ]
  },
  {
   "cell_type": "code",
   "execution_count": 8,
   "id": "bfa01640",
   "metadata": {},
   "outputs": [
    {
     "name": "stdout",
     "output_type": "stream",
     "text": [
      "\n",
      "    My name is Rajan\n",
      "    Hello \n",
      "\n"
     ]
    }
   ],
   "source": [
    "name = '''\n",
    "    My name is Rajan\n",
    "    Hello \n",
    "'''\n",
    "print(name)"
   ]
  },
  {
   "cell_type": "code",
   "execution_count": 9,
   "id": "b126f28d",
   "metadata": {},
   "outputs": [
    {
     "name": "stdout",
     "output_type": "stream",
     "text": [
      "\n",
      "    My name is Rajan\n",
      "    Walia\n",
      "\n",
      "\n"
     ]
    }
   ],
   "source": [
    "name= \"\"\"\n",
    "    My name is Rajan\n",
    "    Walia\n",
    "\n",
    "\"\"\"\n",
    "\n",
    "print(name)"
   ]
  },
  {
   "cell_type": "code",
   "execution_count": 18,
   "id": "7f64cd92",
   "metadata": {},
   "outputs": [
    {
     "name": "stdout",
     "output_type": "stream",
     "text": [
      "97\n",
      "a\n"
     ]
    }
   ],
   "source": [
    "# To get the ascii value of a character\n",
    "print(ord('a'))\n",
    "\n",
    "# To get the ASCII Character corressponding of a value\n",
    "print(chr(97))"
   ]
  },
  {
   "cell_type": "markdown",
   "id": "cbade22b",
   "metadata": {},
   "source": [
    "## Some methods in Python\n",
    "- format, strip, input, split, replace, "
   ]
  },
  {
   "cell_type": "code",
   "execution_count": 27,
   "id": "2beb4c3f",
   "metadata": {},
   "outputs": [
    {
     "name": "stdout",
     "output_type": "stream",
     "text": [
      "Rajan - 20.22 - 30\n",
      "Rajan - 20 - 30\n",
      "Rajan - 20.22 - 30\n",
      "20.22 - Rajan - 30\n",
      "Rajan - Mac - vivo\n",
      "a = Rajan , b = 20.22 , c = 30\n"
     ]
    }
   ],
   "source": [
    "# Different ways to print values in Python\n",
    "\n",
    "a = \"Rajan\"\n",
    "b = 20.22\n",
    "c = 30\n",
    "print(str(a)+\" - \"+str(b)+\" - \"+str(c))\n",
    "print(\"%s - %d - %d\"%(a,b,c))\n",
    "print(\"{} - {} - {}\".format(a,b,c))\n",
    "print(\"{1} - {0} - {2}\".format(a,b,c)) # specify index in {idx} \n",
    "print(\"{name} - {laptop} - {mobile}\".format(name=\"Rajan\",mobile=\"vivo\",laptop=\"Mac\"))\n",
    "print(f\"a = {a} , b = {b} , c = {c}\")"
   ]
  },
  {
   "cell_type": "code",
   "execution_count": 28,
   "id": "25993873",
   "metadata": {},
   "outputs": [
    {
     "name": "stdout",
     "output_type": "stream",
     "text": [
      "I am Rajan\n",
      "28\n"
     ]
    }
   ],
   "source": [
    "name = \"        I am Rajan          \" \n",
    "print(name.strip()) # trim spaces from start and end \n",
    "\n",
    "print(len(name))"
   ]
  },
  {
   "cell_type": "code",
   "execution_count": 29,
   "id": "4459ad09",
   "metadata": {},
   "outputs": [
    {
     "name": "stdout",
     "output_type": "stream",
     "text": [
      "Rajan Walia\n",
      "Rajan Walia\n",
      "hi Rajan, I live in India\n",
      "['hi', 'Rajan,', 'I', 'live', 'in', 'India']\n"
     ]
    }
   ],
   "source": [
    "a = input() # takes the input from the user\n",
    "print(a)\n",
    "\n",
    "a = input()\n",
    "print(a.split(\" \")) # return a list after splitting the string by the given string"
   ]
  },
  {
   "cell_type": "code",
   "execution_count": 33,
   "id": "a13c824e",
   "metadata": {},
   "outputs": [
    {
     "data": {
      "text/plain": [
       "'Rpjpn'"
      ]
     },
     "execution_count": 33,
     "metadata": {},
     "output_type": "execute_result"
    }
   ],
   "source": [
    "a = \"Rajan\"\n",
    "a.replace(\"a\",\"p\") # replace every occurence"
   ]
  },
  {
   "cell_type": "code",
   "execution_count": 38,
   "id": "984094f5",
   "metadata": {},
   "outputs": [
    {
     "name": "stdout",
     "output_type": "stream",
     "text": [
      "7\n",
      "3\n"
     ]
    }
   ],
   "source": [
    "a = \"aaabbbbbcccaaaa\"\n",
    "print(a.count(\"a\"))\n",
    "print(a.count(\"aa\"))\n"
   ]
  },
  {
   "cell_type": "markdown",
   "id": "37e05c81",
   "metadata": {},
   "source": [
    "## Lists in Python\n",
    "\n",
    "- Lists in Python are mutable i.e. value can be changed using its index\n",
    "- Lists are heterogenous\n",
    "- Lists are ordered\n",
    "- Lists can be accessed using index"
   ]
  },
  {
   "cell_type": "code",
   "execution_count": 40,
   "id": "267c35a7",
   "metadata": {},
   "outputs": [
    {
     "name": "stdout",
     "output_type": "stream",
     "text": [
      "[1, 2, 3]\n",
      "1\n",
      "['Rajan', 2, 3]\n",
      "3\n"
     ]
    }
   ],
   "source": [
    "a = [1,2,3]\n",
    "print(a)\n",
    "print(a[0])\n",
    "a[0] = \"Rajan\" # mutable e.g.\n",
    "print(a)\n",
    "print(len(a))"
   ]
  },
  {
   "cell_type": "code",
   "execution_count": 42,
   "id": "b87c29ff",
   "metadata": {},
   "outputs": [
    {
     "name": "stdout",
     "output_type": "stream",
     "text": [
      "[1, 2.3, True, (1+34j), 'Rajan', <built-in function print>]\n",
      "RAJAN WALIA\n",
      "None\n"
     ]
    }
   ],
   "source": [
    "a = [1,2.3,True,1+34j, \"Rajan\", print]\n",
    "print(a)\n",
    "print(a[5](\"RAJAN WALIA\")) # calling print function"
   ]
  },
  {
   "cell_type": "code",
   "execution_count": 43,
   "id": "1f8fa153",
   "metadata": {},
   "outputs": [
    {
     "data": {
      "text/plain": [
       "[1, 2, 3, 4, 5]"
      ]
     },
     "execution_count": 43,
     "metadata": {},
     "output_type": "execute_result"
    }
   ],
   "source": [
    "a = [1,2,3]\n",
    "b = [4,5]\n",
    "a+b  # concatenation"
   ]
  },
  {
   "cell_type": "code",
   "execution_count": 48,
   "id": "207d47a1",
   "metadata": {},
   "outputs": [
    {
     "name": "stdout",
     "output_type": "stream",
     "text": [
      "[1, 2, 3]\n"
     ]
    }
   ],
   "source": [
    "a = [1,2,3]\n",
    "a*4 # returns a list, Repition\n",
    "print(a)"
   ]
  },
  {
   "cell_type": "code",
   "execution_count": 49,
   "id": "8c2ee7e4",
   "metadata": {},
   "outputs": [
    {
     "name": "stdout",
     "output_type": "stream",
     "text": [
      "True\n",
      "False\n"
     ]
    }
   ],
   "source": [
    "a = [1,2,3,4]\n",
    "print(1 in a) # membership\n",
    "print(11 in a)"
   ]
  },
  {
   "cell_type": "code",
   "execution_count": 124,
   "id": "cd7c735a",
   "metadata": {},
   "outputs": [
    {
     "name": "stdout",
     "output_type": "stream",
     "text": [
      "1\n",
      "2\n",
      "3\n",
      "4\n"
     ]
    }
   ],
   "source": [
    "a = [1,2,3,4] \n",
    "for x in a:    # iteration\n",
    "    print(x)"
   ]
  },
  {
   "cell_type": "markdown",
   "id": "b60c1a2f",
   "metadata": {},
   "source": [
    "### Updating the list \n",
    "- insert(idx,value)\n",
    "- append(value)\n",
    "- clear() - removes all the elements from the list\n",
    "- copy() - returns the shallow copy of the list"
   ]
  },
  {
   "cell_type": "code",
   "execution_count": 50,
   "id": "75767dac",
   "metadata": {},
   "outputs": [
    {
     "name": "stdout",
     "output_type": "stream",
     "text": [
      "[1, 'RAJAN', 2, 3, 4]\n",
      "[1, 'RAJAN', 2, 3, 4, 'Walia']\n"
     ]
    }
   ],
   "source": [
    "a = [1,2,3,4]\n",
    "a.insert(1,\"RAJAN\");\n",
    "print(a)\n",
    "\n",
    "a.append(\"Walia\");\n",
    "print(a)"
   ]
  },
  {
   "cell_type": "code",
   "execution_count": 216,
   "id": "183aeb8a",
   "metadata": {},
   "outputs": [
    {
     "data": {
      "text/plain": [
       "[]"
      ]
     },
     "execution_count": 216,
     "metadata": {},
     "output_type": "execute_result"
    }
   ],
   "source": [
    "a = [1,2,3]\n",
    "a.clear()\n",
    "a"
   ]
  },
  {
   "cell_type": "code",
   "execution_count": 51,
   "id": "0b01528e",
   "metadata": {},
   "outputs": [
    {
     "name": "stdout",
     "output_type": "stream",
     "text": [
      "4368251008 4368251008\n",
      "[1, 'RAJAN', 3, 4]\n",
      "[1, 'RAJAN', 3, 4]\n"
     ]
    }
   ],
   "source": [
    "a = [1,2,3,4]\n",
    "b = a\n",
    "print(id(a),id(b)) # pointing to same list or have same reference\n",
    "a[1] = \"RAJAN\"\n",
    "print(a)\n",
    "print(b)"
   ]
  },
  {
   "cell_type": "code",
   "execution_count": 52,
   "id": "c33efa07",
   "metadata": {},
   "outputs": [
    {
     "name": "stdout",
     "output_type": "stream",
     "text": [
      "[1, 2, 3, 4] 4368182592\n",
      "[1, 2, 3, 4] 4368238976\n",
      "[1, 'RAJAN', 3, 4] 4368182592\n",
      "[1, 2, 3, 4] 4368238976\n"
     ]
    }
   ],
   "source": [
    "a = [1,2,3,4]\n",
    "b = a.copy() # return the new list with same items as list a\n",
    "print(a, id(a))\n",
    "print(b,id(b))\n",
    "a[1]= \"RAJAN\"\n",
    "print(a, id(a))\n",
    "print(b,id(b))"
   ]
  },
  {
   "cell_type": "markdown",
   "id": "378b3313",
   "metadata": {},
   "source": [
    "### Delete the elements from the list\n",
    "- del a[idx] - remove the a[idx] element\n",
    "- remove(value) - remove the first occurence of the value\n",
    "- pop(idx) - remove the a[idx]"
   ]
  },
  {
   "cell_type": "code",
   "execution_count": 58,
   "id": "8662b562",
   "metadata": {},
   "outputs": [
    {
     "name": "stdout",
     "output_type": "stream",
     "text": [
      "[1, 2, 3, 4]\n",
      "4368155856 4368155857 4368155858\n",
      "[2, 3, 4, 5]\n"
     ]
    }
   ],
   "source": [
    "a = [1,2,3,4,5]\n",
    "a.pop() # remove and return the last element\n",
    "print(a)\n",
    "a = [1002320,2,3,4,5]\n",
    "print(id(a[0]),id(a[0])+1, id(a[0])+2)\n",
    "a.pop(0) # remove the 0th element\n",
    "print(a)"
   ]
  },
  {
   "cell_type": "code",
   "execution_count": 139,
   "id": "7c2f7e60",
   "metadata": {},
   "outputs": [
    {
     "name": "stdout",
     "output_type": "stream",
     "text": [
      "[1, 2, 4, 5, 'Rajan']\n"
     ]
    }
   ],
   "source": [
    "a = [1,2,\"Rajan\",4,5,\"Rajan\"]\n",
    "a.remove(\"Rajan\")\n",
    "print(a)"
   ]
  },
  {
   "cell_type": "code",
   "execution_count": 144,
   "id": "5e7241f3",
   "metadata": {},
   "outputs": [
    {
     "name": "stdout",
     "output_type": "stream",
     "text": [
      "[1, 2, 3, 5]\n"
     ]
    },
    {
     "ename": "NameError",
     "evalue": "name 'a' is not defined",
     "output_type": "error",
     "traceback": [
      "\u001b[0;31m---------------------------------------------------------------------------\u001b[0m",
      "\u001b[0;31mNameError\u001b[0m                                 Traceback (most recent call last)",
      "Input \u001b[0;32mIn [144]\u001b[0m, in \u001b[0;36m<cell line: 5>\u001b[0;34m()\u001b[0m\n\u001b[1;32m      3\u001b[0m \u001b[38;5;28mprint\u001b[39m(a)\n\u001b[1;32m      4\u001b[0m \u001b[38;5;28;01mdel\u001b[39;00m a\n\u001b[0;32m----> 5\u001b[0m \u001b[38;5;28mprint\u001b[39m(\u001b[43ma\u001b[49m)\n",
      "\u001b[0;31mNameError\u001b[0m: name 'a' is not defined"
     ]
    }
   ],
   "source": [
    "a = [1,2,3,4,5]\n",
    "del a[3]\n",
    "print(a)\n",
    "del a\n",
    "print(a) # Raises IndexError if list is empty or index is out of range."
   ]
  },
  {
   "cell_type": "markdown",
   "id": "d724c057",
   "metadata": {},
   "source": [
    "### Sorting and reversing\n",
    "- sorted - takes the list as an arguement and returns the new list after sorting.\n",
    "- sort - actually sort the original list.\n",
    "- reversed - returns an reverseiterator \n",
    "- reverse"
   ]
  },
  {
   "cell_type": "code",
   "execution_count": 150,
   "id": "bdceebfb",
   "metadata": {},
   "outputs": [
    {
     "name": "stdout",
     "output_type": "stream",
     "text": [
      "Sorted list :  [1, 1, 1, 2, 2, 3, 4, 5, 9]\n",
      "actual list won't change  [1, 2, 1, 3, 1, 5, 2, 9, 4]\n"
     ]
    }
   ],
   "source": [
    "a = [1,2, 1,3, 1,5, 2, 9, 4]\n",
    "print(\"Sorted list : \",sorted(a))\n",
    "print(\"actual list won't change \", a)"
   ]
  },
  {
   "cell_type": "code",
   "execution_count": 152,
   "id": "b27cea56",
   "metadata": {},
   "outputs": [
    {
     "name": "stdout",
     "output_type": "stream",
     "text": [
      "[1, 1, 2, 2, 3, 3, 4, 4, 5, 12, 32]\n"
     ]
    }
   ],
   "source": [
    "a = [1,2,3,4,4,32,2,1,12,3,5]\n",
    "a.sort()\n",
    "print(a)"
   ]
  },
  {
   "cell_type": "code",
   "execution_count": 154,
   "id": "2d7ec8aa",
   "metadata": {},
   "outputs": [
    {
     "name": "stdout",
     "output_type": "stream",
     "text": [
      "5\n",
      "4\n",
      "3\n",
      "2\n",
      "1\n"
     ]
    }
   ],
   "source": [
    "a = [1,2,3,4,5]\n",
    "for x in reversed(a):\n",
    "    print(x)"
   ]
  },
  {
   "cell_type": "code",
   "execution_count": 226,
   "id": "94f2f610",
   "metadata": {},
   "outputs": [
    {
     "name": "stdout",
     "output_type": "stream",
     "text": [
      "[5, 4, 3, 2, 1]\n"
     ]
    }
   ],
   "source": [
    "a = [1,2,3,4,5]\n",
    "a.reverse()\n",
    "print(a)"
   ]
  },
  {
   "cell_type": "code",
   "execution_count": 230,
   "id": "38497306",
   "metadata": {},
   "outputs": [
    {
     "data": {
      "text/plain": [
       "[1, 2, 3, 4, 5]"
      ]
     },
     "execution_count": 230,
     "metadata": {},
     "output_type": "execute_result"
    }
   ],
   "source": [
    "a = [1,2,3,4,5]\n",
    "a.sort(reverse=False)\n",
    "a"
   ]
  },
  {
   "cell_type": "code",
   "execution_count": 244,
   "id": "5ff56f66",
   "metadata": {},
   "outputs": [
    {
     "name": "stdout",
     "output_type": "stream",
     "text": [
      "[('AMAN', 5), ('MUKUL', 1), ('NITIN', 2), ('RAJAN', 1), ('RAM', 9)]\n",
      "[('RAJAN', 1), ('MUKUL', 1), ('NITIN', 2), ('AMAN', 5), ('RAM', 9)]\n"
     ]
    }
   ],
   "source": [
    "a = [(\"RAJAN\",1),(\"AMAN\",5),(\"MUKUL\",1), (\"RAM\",9), (\"NITIN\",2)]\n",
    "a.sort()\n",
    "print(a) # by default it sorts the lists by first tuple value\n",
    "a = [(\"RAJAN\",1),(\"AMAN\",5),(\"MUKUL\",1), (\"RAM\",9), (\"NITIN\",2)]\n",
    "a.sort(key = lambda x : x[1]) # sort the value in by second tuple value\n",
    "print(a)"
   ]
  },
  {
   "cell_type": "code",
   "execution_count": null,
   "id": "b46d4021",
   "metadata": {},
   "outputs": [],
   "source": []
  },
  {
   "cell_type": "code",
   "execution_count": null,
   "id": "404fac77",
   "metadata": {},
   "outputs": [],
   "source": []
  },
  {
   "cell_type": "markdown",
   "id": "d7dfcdd3",
   "metadata": {},
   "source": [
    "#### Slicing the list"
   ]
  },
  {
   "cell_type": "code",
   "execution_count": 170,
   "id": "df8d9f3d",
   "metadata": {},
   "outputs": [
    {
     "name": "stdout",
     "output_type": "stream",
     "text": [
      "[2, 3, 4, 5, 6, 7, 8, 9, 10]\n",
      "[3, 4, 5]\n",
      "[9, 10]\n",
      "[2, 5, 8]\n",
      "[10, 9, 8, 7, 6, 5, 4, 3, 2, 1]\n"
     ]
    }
   ],
   "source": [
    "a = [1,2,3,4,5,6,7,8,9,10]\n",
    "print(a[1:]) # print all the elements starting from 1 index\n",
    "print(a[2:5]) # print all the element between [2,5) idxes\n",
    "print(a[-2:]) # print all the elements from 2nd last idx\n",
    "print(a[1::3]) # print each element with the jump of 3\n",
    "print(a[::-1]) # reverse a list"
   ]
  },
  {
   "cell_type": "code",
   "execution_count": null,
   "id": "e7bc895c",
   "metadata": {},
   "outputs": [],
   "source": []
  },
  {
   "cell_type": "markdown",
   "id": "36eca46d",
   "metadata": {},
   "source": [
    "### convert *** to list\n",
    "- list() function takes an iterable as an argument and converts it into list"
   ]
  },
  {
   "cell_type": "code",
   "execution_count": 190,
   "id": "f10eefe1",
   "metadata": {},
   "outputs": [
    {
     "data": {
      "text/plain": [
       "['R', 'A', 'J', 'A', 'N']"
      ]
     },
     "execution_count": 190,
     "metadata": {},
     "output_type": "execute_result"
    }
   ],
   "source": [
    "a = \"RAJAN\"\n",
    "list(a)"
   ]
  },
  {
   "cell_type": "code",
   "execution_count": 191,
   "id": "54cde7a6",
   "metadata": {},
   "outputs": [
    {
     "data": {
      "text/plain": [
       "[0, 1, 2, 3, 4, 5, 6, 7, 8, 9]"
      ]
     },
     "execution_count": 191,
     "metadata": {},
     "output_type": "execute_result"
    }
   ],
   "source": [
    "a = list(range(10))\n",
    "a"
   ]
  },
  {
   "cell_type": "code",
   "execution_count": 198,
   "id": "8102b41a",
   "metadata": {},
   "outputs": [
    {
     "data": {
      "text/plain": [
       "[1, 2, 3, 4]"
      ]
     },
     "execution_count": 198,
     "metadata": {},
     "output_type": "execute_result"
    }
   ],
   "source": [
    "a = (1,2,3,4)\n",
    "b = list(a)\n",
    "b"
   ]
  },
  {
   "cell_type": "code",
   "execution_count": null,
   "id": "f4d8adb4",
   "metadata": {},
   "outputs": [],
   "source": []
  },
  {
   "cell_type": "code",
   "execution_count": null,
   "id": "c97feed3",
   "metadata": {},
   "outputs": [],
   "source": []
  },
  {
   "cell_type": "code",
   "execution_count": null,
   "id": "d10b7bd4",
   "metadata": {},
   "outputs": [],
   "source": []
  },
  {
   "cell_type": "markdown",
   "id": "9b786ea2",
   "metadata": {},
   "source": [
    "## Tuples in Python\n",
    "- Tuples are used to hold together multiple objects. These are similar to lists but without the extensive functionality that lists gives us. \n",
    "- One Major feature of lists is that they are immutable like strings i.e. You can't modify tuples.\n",
    "- Tuples are defined by specifying items seperated by commas within an optional pair of paranthesis.\n",
    "- Tuples are usually used in cases where a statement or a used defined function can safely assume that the collection of values i.e. the tuple of values **will not change**"
   ]
  },
  {
   "cell_type": "code",
   "execution_count": 172,
   "id": "7628c8ed",
   "metadata": {},
   "outputs": [
    {
     "ename": "TypeError",
     "evalue": "'tuple' object does not support item assignment",
     "output_type": "error",
     "traceback": [
      "\u001b[0;31m---------------------------------------------------------------------------\u001b[0m",
      "\u001b[0;31mTypeError\u001b[0m                                 Traceback (most recent call last)",
      "Input \u001b[0;32mIn [172]\u001b[0m, in \u001b[0;36m<cell line: 2>\u001b[0;34m()\u001b[0m\n\u001b[1;32m      1\u001b[0m a \u001b[38;5;241m=\u001b[39m (\u001b[38;5;241m1\u001b[39m,\u001b[38;5;241m2\u001b[39m,\u001b[38;5;241m3\u001b[39m,\u001b[38;5;241m4\u001b[39m)\n\u001b[0;32m----> 2\u001b[0m \u001b[43ma\u001b[49m\u001b[43m[\u001b[49m\u001b[38;5;241;43m0\u001b[39;49m\u001b[43m]\u001b[49m \u001b[38;5;241m=\u001b[39m \u001b[38;5;241m4\u001b[39m\n",
      "\u001b[0;31mTypeError\u001b[0m: 'tuple' object does not support item assignment"
     ]
    }
   ],
   "source": [
    "a = (1,2,3,4)\n",
    "a[0] = 4 # TypeError: 'tuple' object does not support item assignment"
   ]
  },
  {
   "cell_type": "code",
   "execution_count": 175,
   "id": "52cc22d5",
   "metadata": {},
   "outputs": [
    {
     "name": "stdout",
     "output_type": "stream",
     "text": [
      "(1, 2, 3, 4)\n"
     ]
    }
   ],
   "source": [
    "def func(*args):\n",
    "    print(args) # these args are actually tuple\n",
    "    \n",
    "func(1,2,3,4)"
   ]
  },
  {
   "cell_type": "code",
   "execution_count": 179,
   "id": "a7611c57",
   "metadata": {},
   "outputs": [
    {
     "name": "stdout",
     "output_type": "stream",
     "text": [
      "(1, 2, 3)\n",
      "<class 'tuple'>\n"
     ]
    }
   ],
   "source": [
    "a = 1,2,3 # by default it will create a tuple\n",
    "print(a)\n",
    "print(type(a))"
   ]
  },
  {
   "cell_type": "code",
   "execution_count": 181,
   "id": "60e4ecd7",
   "metadata": {},
   "outputs": [
    {
     "name": "stdout",
     "output_type": "stream",
     "text": [
      "(1, 2, 3) 1 2 3\n"
     ]
    }
   ],
   "source": [
    "a = 1,2,3\n",
    "b,c,d = a # unpacking or destructuring the tuple\n",
    "print(a,b,c,d)"
   ]
  },
  {
   "cell_type": "code",
   "execution_count": 189,
   "id": "08297236",
   "metadata": {},
   "outputs": [
    {
     "name": "stdout",
     "output_type": "stream",
     "text": [
      "20 10\n",
      "10 20\n"
     ]
    }
   ],
   "source": [
    "# swaping of 2 variables in python\n",
    "a = 20\n",
    "b = 10\n",
    "print(a,b)\n",
    "b,a = a,b # by default right part will be treated as tuple and then it will unpacked and assingned into b,a\n",
    "print(a,b)"
   ]
  },
  {
   "cell_type": "markdown",
   "id": "efefa7fb",
   "metadata": {},
   "source": [
    "### converting a list into a tuple"
   ]
  },
  {
   "cell_type": "code",
   "execution_count": 201,
   "id": "bb727f33",
   "metadata": {},
   "outputs": [
    {
     "data": {
      "text/plain": [
       "(1, 2, 3)"
      ]
     },
     "execution_count": 201,
     "metadata": {},
     "output_type": "execute_result"
    }
   ],
   "source": [
    "a = [1,2,3]\n",
    "b = tuple(a)\n",
    "b"
   ]
  },
  {
   "cell_type": "code",
   "execution_count": 203,
   "id": "2a6d4e4e",
   "metadata": {},
   "outputs": [
    {
     "data": {
      "text/plain": [
       "('R', 'A', 'J', 'A', 'N')"
      ]
     },
     "execution_count": 203,
     "metadata": {},
     "output_type": "execute_result"
    }
   ],
   "source": [
    "a = \"RAJAN\"\n",
    "b = tuple(a)\n",
    "b"
   ]
  },
  {
   "cell_type": "code",
   "execution_count": 208,
   "id": "1703f419",
   "metadata": {},
   "outputs": [
    {
     "data": {
      "text/plain": [
       "(0, 1, 2, 3, 4, 5, 6, 7, 8, 9)"
      ]
     },
     "execution_count": 208,
     "metadata": {},
     "output_type": "execute_result"
    }
   ],
   "source": [
    "a = tuple(range(10))\n",
    "a"
   ]
  },
  {
   "cell_type": "markdown",
   "id": "bc097457",
   "metadata": {},
   "source": [
    "### Returning multiple values from the functions ( returned thing is ***tuple***)"
   ]
  },
  {
   "cell_type": "code",
   "execution_count": 214,
   "id": "ea130bcd",
   "metadata": {},
   "outputs": [
    {
     "name": "stdout",
     "output_type": "stream",
     "text": [
      "130 90\n"
     ]
    }
   ],
   "source": [
    "def addSubtract(a,b):\n",
    "    return a+b,a-b # returning the tuple i.e. (a+b,a-b)\n",
    "\n",
    "sums,diff = addSubtract(110,20) # unpacking the tuple\n",
    "print(sums,diff)"
   ]
  },
  {
   "cell_type": "markdown",
   "id": "dab03f9b",
   "metadata": {},
   "source": [
    "## Dictionaries in Python\n",
    "- It is based upon key value pairs like objects in JS.\n",
    "- These are unordered\n",
    "- Keys in the dictionary can be any ***immutable data structure***"
   ]
  },
  {
   "cell_type": "code",
   "execution_count": 3,
   "id": "e37181ae",
   "metadata": {},
   "outputs": [
    {
     "name": "stdout",
     "output_type": "stream",
     "text": [
      "RAJAN\n",
      "['Math', 'C++', 'JAVA']\n",
      "Haryana\n"
     ]
    }
   ],
   "source": [
    "student = {\n",
    "    \"name\" : \"RAJAN\",\n",
    "    \"rollNo\" : 11,\n",
    "    \"subjects\" : [\"Math\", \"C++\",\"JAVA\"],\n",
    "    \"address\" : {\n",
    "        \"city\" : \"YNR\",\n",
    "        \"state\" : \"Haryana\"\n",
    "    }\n",
    "}\n",
    "print(student[\"name\"])\n",
    "print(student[\"subjects\"])\n",
    "print(student[\"address\"][\"state\"])"
   ]
  },
  {
   "cell_type": "code",
   "execution_count": 5,
   "id": "aa002fcf",
   "metadata": {},
   "outputs": [
    {
     "name": "stdout",
     "output_type": "stream",
     "text": [
      "name\n",
      "rollNo\n",
      "subjects\n",
      "address\n"
     ]
    }
   ],
   "source": [
    "# Iterating over dictionaries gives us keys\n",
    "\n",
    "for key in student:\n",
    "    print(key)"
   ]
  },
  {
   "cell_type": "markdown",
   "id": "3ef1dcf5",
   "metadata": {},
   "source": [
    "## Some methods of dictionaries\n",
    "- get(key) - It is used to get the value of the key in a dictionary. If key doesn't exit it returns NoneType value\n",
    "- items() - returns a tuple of key and value for each key\n",
    "- keys() - returns all keys in dictionaries \n",
    "- values() - returns all the value in the dictionaries\n",
    "- clear() - it clears the whole dictionary"
   ]
  },
  {
   "cell_type": "code",
   "execution_count": 22,
   "id": "eb7dd090",
   "metadata": {},
   "outputs": [
    {
     "data": {
      "text/plain": [
       "NoneType"
      ]
     },
     "execution_count": 22,
     "metadata": {},
     "output_type": "execute_result"
    }
   ],
   "source": [
    "type(student.get(\"name1\"))\n",
    "\n",
    "# student[\"name1\"]"
   ]
  },
  {
   "cell_type": "code",
   "execution_count": 12,
   "id": "a6225f0c",
   "metadata": {},
   "outputs": [
    {
     "name": "stdout",
     "output_type": "stream",
     "text": [
      "('name', 'RAJAN')\n",
      "('rollNo', 11)\n",
      "('subjects', ['Math', 'C++', 'JAVA'])\n",
      "('address', {'city': 'YNR', 'state': 'Haryana'})\n",
      "name -> RAJAN\n",
      "rollNo -> 11\n",
      "subjects -> ['Math', 'C++', 'JAVA']\n",
      "address -> {'city': 'YNR', 'state': 'Haryana'}\n"
     ]
    }
   ],
   "source": [
    "for x in student.items():\n",
    "    print(x)\n",
    "    \n",
    "# unpack the tuple to get the key and value\n",
    "\n",
    "for key, value in student.items():\n",
    "    print(key,\"->\",value)\n",
    "    "
   ]
  },
  {
   "cell_type": "code",
   "execution_count": 15,
   "id": "5ab8954a",
   "metadata": {},
   "outputs": [
    {
     "name": "stdout",
     "output_type": "stream",
     "text": [
      "name\n",
      "rollNo\n",
      "subjects\n",
      "address\n"
     ]
    }
   ],
   "source": [
    "for key  in student.keys():\n",
    "    print(key)"
   ]
  },
  {
   "cell_type": "code",
   "execution_count": 16,
   "id": "92b947f6",
   "metadata": {},
   "outputs": [
    {
     "name": "stdout",
     "output_type": "stream",
     "text": [
      "RAJAN\n",
      "11\n",
      "['Math', 'C++', 'JAVA']\n",
      "{'city': 'YNR', 'state': 'Haryana'}\n"
     ]
    }
   ],
   "source": [
    "for value in student.values():\n",
    "    print(value)"
   ]
  },
  {
   "cell_type": "code",
   "execution_count": 23,
   "id": "1e6ac4d3",
   "metadata": {},
   "outputs": [],
   "source": [
    "student.clear()"
   ]
  },
  {
   "cell_type": "code",
   "execution_count": 24,
   "id": "5a0665d1",
   "metadata": {},
   "outputs": [
    {
     "data": {
      "text/plain": [
       "{}"
      ]
     },
     "execution_count": 24,
     "metadata": {},
     "output_type": "execute_result"
    }
   ],
   "source": [
    "student"
   ]
  },
  {
   "cell_type": "markdown",
   "id": "6791b173",
   "metadata": {},
   "source": [
    "- Keys in the dictionary can be any ***immutable data structure***"
   ]
  },
  {
   "cell_type": "code",
   "execution_count": 26,
   "id": "554c7984",
   "metadata": {},
   "outputs": [
    {
     "data": {
      "text/plain": [
       "{(1, 2): 'RAJAN'}"
      ]
     },
     "execution_count": 26,
     "metadata": {},
     "output_type": "execute_result"
    }
   ],
   "source": [
    "dic= {\n",
    "    (1,2) : \"RAJAN\"\n",
    "}\n",
    "dic"
   ]
  },
  {
   "cell_type": "code",
   "execution_count": 28,
   "id": "4d45da68",
   "metadata": {},
   "outputs": [
    {
     "ename": "TypeError",
     "evalue": "unhashable type: 'list'",
     "output_type": "error",
     "traceback": [
      "\u001b[0;31m---------------------------------------------------------------------------\u001b[0m",
      "\u001b[0;31mTypeError\u001b[0m                                 Traceback (most recent call last)",
      "Input \u001b[0;32mIn [28]\u001b[0m, in \u001b[0;36m<cell line: 3>\u001b[0;34m()\u001b[0m\n\u001b[1;32m      1\u001b[0m \u001b[38;5;66;03m# not allowed as lists are mutable\u001b[39;00m\n\u001b[0;32m----> 2\u001b[0m dic \u001b[38;5;241m=\u001b[39m {\n\u001b[1;32m      3\u001b[0m     [\u001b[38;5;241m1\u001b[39m,\u001b[38;5;241m2\u001b[39m] : \u001b[38;5;124m\"\u001b[39m\u001b[38;5;124mRAJAN\u001b[39m\u001b[38;5;124m\"\u001b[39m \n\u001b[1;32m      4\u001b[0m }\n",
      "\u001b[0;31mTypeError\u001b[0m: unhashable type: 'list'"
     ]
    }
   ],
   "source": [
    "# not allowed as lists are mutable\n",
    "dic = {\n",
    "    [1,2] : \"RAJAN\" \n",
    "}"
   ]
  },
  {
   "cell_type": "markdown",
   "id": "4b9a5dc4",
   "metadata": {},
   "source": [
    "## Sets in Python\n",
    "- Sets are unordered collections of simple objects. These are used when the existence of an object in a collection is more important than the order or how many times it occurs.\n",
    "- Using sets we can find intersection, union and so on...\n",
    "- Sets are not indexable but we can iterate on that\n",
    "- All the values in set are unique"
   ]
  },
  {
   "cell_type": "code",
   "execution_count": 33,
   "id": "36a648a1",
   "metadata": {},
   "outputs": [
    {
     "name": "stdout",
     "output_type": "stream",
     "text": [
      "<class 'set'>\n",
      "<class 'set'>\n"
     ]
    }
   ],
   "source": [
    "a = set()\n",
    "print(type(a))\n",
    "a = {1,2,3,4}\n",
    "print(type(a))"
   ]
  },
  {
   "cell_type": "code",
   "execution_count": 37,
   "id": "3d567f35",
   "metadata": {},
   "outputs": [
    {
     "name": "stdout",
     "output_type": "stream",
     "text": [
      "{3, 4}\n",
      "{1, 2, 3, 4, 5, 6}\n",
      "{1, 2}\n",
      "{5, 6}\n"
     ]
    }
   ],
   "source": [
    "a = {1,2,3,4}\n",
    "b = {3,4,5,6}\n",
    "print(a.intersection(b))\n",
    "print(a.union(b))\n",
    "print(a-b)\n",
    "print(b-a)"
   ]
  },
  {
   "cell_type": "code",
   "execution_count": 40,
   "id": "3d272116",
   "metadata": {},
   "outputs": [
    {
     "name": "stdout",
     "output_type": "stream",
     "text": [
      "1\n",
      "34.33\n",
      "RAJAN\n"
     ]
    }
   ],
   "source": [
    "a = {1,\"RAJAN\", 34.33}\n",
    "for x in a:\n",
    "    print(x)"
   ]
  },
  {
   "cell_type": "code",
   "execution_count": null,
   "id": "e2329ed4",
   "metadata": {},
   "outputs": [],
   "source": []
  },
  {
   "cell_type": "code",
   "execution_count": 43,
   "id": "0f68f55b",
   "metadata": {},
   "outputs": [
    {
     "name": "stdout",
     "output_type": "stream",
     "text": [
      "{1, 2, 3, 4, 'RAJAN'}\n",
      "5\n"
     ]
    }
   ],
   "source": [
    "s = {1,2,3,4,1,2,\"RAJAN\", \"RAJAN\"}\n",
    "print(s) # all the values are unique\n",
    "print(len(s))"
   ]
  },
  {
   "cell_type": "code",
   "execution_count": 51,
   "id": "4cea402c",
   "metadata": {},
   "outputs": [
    {
     "data": {
      "text/plain": [
       "[1, 2, 3, 4]"
      ]
     },
     "execution_count": 51,
     "metadata": {},
     "output_type": "execute_result"
    }
   ],
   "source": [
    "# remove all the duplicates from list\n",
    "l = [1,2,3,4,4,2,2,1,1,3,2,3,3]\n",
    "list(set(l))"
   ]
  },
  {
   "cell_type": "markdown",
   "id": "37f72b44",
   "metadata": {},
   "source": [
    "## Comprehension\n",
    "- shortcut for doing the operation"
   ]
  },
  {
   "cell_type": "code",
   "execution_count": 53,
   "id": "550f72e4",
   "metadata": {},
   "outputs": [
    {
     "name": "stdout",
     "output_type": "stream",
     "text": [
      "[0, 1, 4, 9, 16, 25, 36, 49, 64, 81]\n"
     ]
    }
   ],
   "source": [
    "a = []\n",
    "for x in range(10):\n",
    "    a.append(x**2)\n",
    "print(a)"
   ]
  },
  {
   "cell_type": "markdown",
   "id": "ef00a605",
   "metadata": {},
   "source": [
    "### list comprehension"
   ]
  },
  {
   "cell_type": "code",
   "execution_count": 54,
   "id": "1c0412c6",
   "metadata": {},
   "outputs": [
    {
     "data": {
      "text/plain": [
       "[0, 1, 4, 9, 16, 25, 36, 49, 64, 81]"
      ]
     },
     "execution_count": 54,
     "metadata": {},
     "output_type": "execute_result"
    }
   ],
   "source": [
    "[i**2 for i in range(10)]"
   ]
  },
  {
   "cell_type": "code",
   "execution_count": 57,
   "id": "610d4ddd",
   "metadata": {},
   "outputs": [
    {
     "data": {
      "text/plain": [
       "[0, 4, 16, 36, 64]"
      ]
     },
     "execution_count": 57,
     "metadata": {},
     "output_type": "execute_result"
    }
   ],
   "source": [
    "[i**2 for i in range(10) if (i%2==0)]"
   ]
  },
  {
   "cell_type": "markdown",
   "id": "8b569e63",
   "metadata": {},
   "source": [
    "### dict comprehension"
   ]
  },
  {
   "cell_type": "code",
   "execution_count": 58,
   "id": "45827cfb",
   "metadata": {},
   "outputs": [
    {
     "data": {
      "text/plain": [
       "{0: 0, 2: 4, 4: 16, 6: 36, 8: 64}"
      ]
     },
     "execution_count": 58,
     "metadata": {},
     "output_type": "execute_result"
    }
   ],
   "source": [
    "{ key : key**2 for key in range(10) if key%2==0 }"
   ]
  },
  {
   "cell_type": "markdown",
   "id": "f361e0cc",
   "metadata": {},
   "source": [
    "### set comprehension"
   ]
  },
  {
   "cell_type": "code",
   "execution_count": 59,
   "id": "fe8f7294",
   "metadata": {},
   "outputs": [
    {
     "data": {
      "text/plain": [
       "{0, 4, 16, 36, 64}"
      ]
     },
     "execution_count": 59,
     "metadata": {},
     "output_type": "execute_result"
    }
   ],
   "source": [
    "{i**2 for i in range(10) if(i%2==0)}"
   ]
  },
  {
   "cell_type": "markdown",
   "id": "68205ceb",
   "metadata": {},
   "source": [
    "### Not tuple comprehension\n",
    "- The following is not tuple comprehension, it is generator"
   ]
  },
  {
   "cell_type": "code",
   "execution_count": 60,
   "id": "e3049747",
   "metadata": {},
   "outputs": [
    {
     "data": {
      "text/plain": [
       "<generator object <genexpr> at 0x107626d60>"
      ]
     },
     "execution_count": 60,
     "metadata": {},
     "output_type": "execute_result"
    }
   ],
   "source": [
    "(i**2 for i in range(10) if(i%2==0))"
   ]
  },
  {
   "cell_type": "code",
   "execution_count": null,
   "id": "b827a94b",
   "metadata": {},
   "outputs": [],
   "source": []
  }
 ],
 "metadata": {
  "kernelspec": {
   "display_name": "Python 3 (ipykernel)",
   "language": "python",
   "name": "python3"
  },
  "language_info": {
   "codemirror_mode": {
    "name": "ipython",
    "version": 3
   },
   "file_extension": ".py",
   "mimetype": "text/x-python",
   "name": "python",
   "nbconvert_exporter": "python",
   "pygments_lexer": "ipython3",
   "version": "3.9.14"
  }
 },
 "nbformat": 4,
 "nbformat_minor": 5
}
