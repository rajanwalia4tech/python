{
 "cells": [
  {
   "cell_type": "code",
   "execution_count": 86,
   "id": "397a7255",
   "metadata": {},
   "outputs": [],
   "source": [
    "from multiprocessing import Process"
   ]
  },
  {
   "cell_type": "code",
   "execution_count": 87,
   "id": "965789c6",
   "metadata": {},
   "outputs": [],
   "source": [
    "processes = []"
   ]
  },
  {
   "cell_type": "code",
   "execution_count": 88,
   "id": "1d9c050e",
   "metadata": {},
   "outputs": [],
   "source": [
    "def square(num=2):\n",
    "    print(num**2)"
   ]
  },
  {
   "cell_type": "code",
   "execution_count": 89,
   "id": "3576a991",
   "metadata": {},
   "outputs": [
    {
     "name": "stdout",
     "output_type": "stream",
     "text": [
      "Hello\n"
     ]
    },
    {
     "name": "stderr",
     "output_type": "stream",
     "text": [
      "Traceback (most recent call last):\n",
      "  File \"<string>\", line 1, in <module>\n",
      "  File \"/opt/homebrew/Cellar/python@3.9/3.9.14/Frameworks/Python.framework/Versions/3.9/lib/python3.9/multiprocessing/spawn.py\", line 116, in spawn_main\n",
      "    exitcode = _main(fd, parent_sentinel)\n",
      "  File \"/opt/homebrew/Cellar/python@3.9/3.9.14/Frameworks/Python.framework/Versions/3.9/lib/python3.9/multiprocessing/spawn.py\", line 126, in _main\n",
      "Traceback (most recent call last):\n",
      "  File \"<string>\", line 1, in <module>\n",
      "  File \"/opt/homebrew/Cellar/python@3.9/3.9.14/Frameworks/Python.framework/Versions/3.9/lib/python3.9/multiprocessing/spawn.py\", line 116, in spawn_main\n",
      "    self = reduction.pickle.load(from_parent)\n",
      "AttributeError: Can't get attribute 'square' on <module '__main__' (built-in)>\n",
      "    exitcode = _main(fd, parent_sentinel)\n",
      "  File \"/opt/homebrew/Cellar/python@3.9/3.9.14/Frameworks/Python.framework/Versions/3.9/lib/python3.9/multiprocessing/spawn.py\", line 126, in _main\n",
      "Traceback (most recent call last):\n",
      "  File \"<string>\", line 1, in <module>\n",
      "    self = reduction.pickle.load(from_parent)\n",
      "AttributeError: Can't get attribute 'square' on <module '__main__' (built-in)>\n",
      "  File \"/opt/homebrew/Cellar/python@3.9/3.9.14/Frameworks/Python.framework/Versions/3.9/lib/python3.9/multiprocessing/spawn.py\", line 116, in spawn_main\n",
      "    exitcode = _main(fd, parent_sentinel)\n",
      "  File \"/opt/homebrew/Cellar/python@3.9/3.9.14/Frameworks/Python.framework/Versions/3.9/lib/python3.9/multiprocessing/spawn.py\", line 126, in _main\n",
      "    self = reduction.pickle.load(from_parent)\n",
      "AttributeError: Can't get attribute 'square' on <module '__main__' (built-in)>\n",
      "Traceback (most recent call last):\n",
      "  File \"<string>\", line 1, in <module>\n",
      "  File \"/opt/homebrew/Cellar/python@3.9/3.9.14/Frameworks/Python.framework/Versions/3.9/lib/python3.9/multiprocessing/spawn.py\", line 116, in spawn_main\n",
      "    exitcode = _main(fd, parent_sentinel)\n",
      "  File \"/opt/homebrew/Cellar/python@3.9/3.9.14/Frameworks/Python.framework/Versions/3.9/lib/python3.9/multiprocessing/spawn.py\", line 126, in _main\n",
      "    self = reduction.pickle.load(from_parent)\n",
      "AttributeError: Can't get attribute 'square' on <module '__main__' (built-in)>\n",
      "Traceback (most recent call last):\n",
      "  File \"<string>\", line 1, in <module>\n",
      "  File \"/opt/homebrew/Cellar/python@3.9/3.9.14/Frameworks/Python.framework/Versions/3.9/lib/python3.9/multiprocessing/spawn.py\", line 116, in spawn_main\n",
      "    exitcode = _main(fd, parent_sentinel)\n",
      "  File \"/opt/homebrew/Cellar/python@3.9/3.9.14/Frameworks/Python.framework/Versions/3.9/lib/python3.9/multiprocessing/spawn.py\", line 126, in _main\n",
      "    self = reduction.pickle.load(from_parent)\n",
      "AttributeError: Can't get attribute 'square' on <module '__main__' (built-in)>\n"
     ]
    }
   ],
   "source": [
    "for x in range(5):\n",
    "    processes.append(Process(target=square,args=(x+1,)))\n",
    "    \n",
    "for proc in processes:\n",
    "    proc.start()\n",
    "\n",
    "print(\"Hello\")\n",
    "\n",
    "for proc in processes:\n",
    "    proc.join()"
   ]
  },
  {
   "cell_type": "code",
   "execution_count": 29,
   "id": "72574aff",
   "metadata": {},
   "outputs": [],
   "source": []
  },
  {
   "cell_type": "markdown",
   "id": "07b11b96",
   "metadata": {},
   "source": [
    "## Multithreading"
   ]
  },
  {
   "cell_type": "code",
   "execution_count": 38,
   "id": "fcc9e0d2",
   "metadata": {},
   "outputs": [],
   "source": [
    "from threading import Thread"
   ]
  },
  {
   "cell_type": "code",
   "execution_count": 56,
   "id": "a55c8d0f",
   "metadata": {},
   "outputs": [],
   "source": [
    "def square(n):\n",
    "    for x in range(10000000): pass\n",
    "    print(\"Square is \",n**2)\n",
    "    \n",
    "def cube(n):\n",
    "    print(\"Cube is \",n**3)"
   ]
  },
  {
   "cell_type": "code",
   "execution_count": 57,
   "id": "4bdcde23",
   "metadata": {},
   "outputs": [],
   "source": [
    "t1 = Thread(target=square,args= (4,))\n",
    "t2 = Thread(target=cube, args= (3,))"
   ]
  },
  {
   "cell_type": "code",
   "execution_count": 58,
   "id": "c8548a79",
   "metadata": {},
   "outputs": [
    {
     "name": "stdout",
     "output_type": "stream",
     "text": [
      "Cube is  27\n",
      "HELLO\n",
      "Square is  16\n",
      "DONE Threading \n"
     ]
    }
   ],
   "source": [
    "t1.start()\n",
    "t2.start()\n",
    "print(\"HELLO\")\n",
    "\n",
    "t1.join()\n",
    "t2.join()\n",
    "\n",
    "print(\"DONE Threading \")"
   ]
  },
  {
   "cell_type": "code",
   "execution_count": 90,
   "id": "89ea4a5b",
   "metadata": {},
   "outputs": [],
   "source": [
    "from queue import Queue"
   ]
  },
  {
   "cell_type": "code",
   "execution_count": 92,
   "id": "b1e60ed5",
   "metadata": {},
   "outputs": [],
   "source": [
    "def producer(q):\n",
    "    for i in range(5):\n",
    "        q.put(i)\n",
    "        print(\"Published \",i)\n",
    "\n",
    "def consumer(q):\n",
    "    while True:\n",
    "        data = q.get()\n",
    "        print(\"Consumed \",data)"
   ]
  },
  {
   "cell_type": "code",
   "execution_count": 101,
   "id": "a2d7f986",
   "metadata": {},
   "outputs": [
    {
     "name": "stdout",
     "output_type": "stream",
     "text": [
      "Published Consumed  0\n",
      " 0\n",
      "Published  1\n",
      "Published  2\n",
      "Published  3\n",
      "Published  4\n",
      "Consumed  1\n",
      "Consumed  2\n",
      "Consumed  3\n",
      "Consumed  4\n"
     ]
    }
   ],
   "source": [
    "q = Queue()\n",
    "producer_thread = Thread(target=producer,args = (q,))\n",
    "consumer_thread = Thread(target=consumer,args = (q,))\n",
    "\n",
    "consumer_thread.start()\n",
    "producer_thread.start()"
   ]
  },
  {
   "cell_type": "code",
   "execution_count": 102,
   "id": "5d0aaac9",
   "metadata": {},
   "outputs": [],
   "source": [
    "producer_thread.join()"
   ]
  },
  {
   "cell_type": "code",
   "execution_count": null,
   "id": "fb04e57a",
   "metadata": {},
   "outputs": [],
   "source": [
    "consumer_thread.join()"
   ]
  },
  {
   "cell_type": "code",
   "execution_count": 68,
   "id": "f5816224",
   "metadata": {},
   "outputs": [
    {
     "name": "stdout",
     "output_type": "stream",
     "text": [
      "Published  0\n",
      "Published  1\n",
      "Published  2\n",
      "Published  3\n",
      "Published  4\n",
      "Consumed  0\n",
      "Consumed  1\n",
      "Consumed  2\n",
      "Consumed  3\n",
      "Consumed  4\n"
     ]
    }
   ],
   "source": [
    "producer_thread = Thread(target=producer,args = (q,))\n",
    "producer_thread.start()"
   ]
  },
  {
   "cell_type": "code",
   "execution_count": null,
   "id": "2ffd3283",
   "metadata": {},
   "outputs": [],
   "source": []
  },
  {
   "cell_type": "markdown",
   "id": "3add8341",
   "metadata": {},
   "source": [
    "## Coroutines\n",
    "\n",
    "- yield"
   ]
  },
  {
   "cell_type": "code",
   "execution_count": 1,
   "id": "3ea1d3da",
   "metadata": {},
   "outputs": [],
   "source": [
    "def printName(prefix):\n",
    "    try:\n",
    "        print(\"HEHEHE\")\n",
    "        while True:\n",
    "            print(\"Start\")\n",
    "            name = (yield)\n",
    "            print(prefix + \" : \"+ name)\n",
    "    except GeneratorExit:\n",
    "        print(\"CLOSED The coroutine!!!!\")\n"
   ]
  },
  {
   "cell_type": "code",
   "execution_count": 2,
   "id": "a3028287",
   "metadata": {},
   "outputs": [],
   "source": [
    "coroutine = printName(\"Hello\")"
   ]
  },
  {
   "cell_type": "code",
   "execution_count": 3,
   "id": "7d642ee0",
   "metadata": {},
   "outputs": [
    {
     "data": {
      "text/plain": [
       "generator"
      ]
     },
     "execution_count": 3,
     "metadata": {},
     "output_type": "execute_result"
    }
   ],
   "source": [
    "type(coroutine)"
   ]
  },
  {
   "cell_type": "code",
   "execution_count": 4,
   "id": "e024789d",
   "metadata": {},
   "outputs": [
    {
     "name": "stdout",
     "output_type": "stream",
     "text": [
      "Start\n"
     ]
    }
   ],
   "source": [
    "next(coroutine) # initialization"
   ]
  },
  {
   "cell_type": "code",
   "execution_count": 5,
   "id": "c1564b8e",
   "metadata": {},
   "outputs": [
    {
     "name": "stdout",
     "output_type": "stream",
     "text": [
      "Hello : Rajan\n",
      "Start\n"
     ]
    }
   ],
   "source": [
    "coroutine.send(\"Rajan\")"
   ]
  },
  {
   "cell_type": "code",
   "execution_count": null,
   "id": "8e53057c",
   "metadata": {},
   "outputs": [],
   "source": []
  },
  {
   "cell_type": "code",
   "execution_count": null,
   "id": "4bc4e735",
   "metadata": {},
   "outputs": [],
   "source": []
  },
  {
   "cell_type": "code",
   "execution_count": null,
   "id": "762dc528",
   "metadata": {},
   "outputs": [],
   "source": []
  }
 ],
 "metadata": {
  "kernelspec": {
   "display_name": "Python 3 (ipykernel)",
   "language": "python",
   "name": "python3"
  },
  "language_info": {
   "codemirror_mode": {
    "name": "ipython",
    "version": 3
   },
   "file_extension": ".py",
   "mimetype": "text/x-python",
   "name": "python",
   "nbconvert_exporter": "python",
   "pygments_lexer": "ipython3",
   "version": "3.9.14"
  }
 },
 "nbformat": 4,
 "nbformat_minor": 5
}
