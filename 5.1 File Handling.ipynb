{
 "cells": [
  {
   "cell_type": "markdown",
   "id": "390dfb35",
   "metadata": {},
   "source": [
    "## File Handling Modes"
   ]
  },
  {
   "cell_type": "markdown",
   "id": "2e629549",
   "metadata": {},
   "source": [
    "`Access modes govern the type of operations possible in the opened file. It refers to how the file will be used once its opened. These modes also define the location of the File Handle in the file. File handle is like a cursor, which defines from where the data has to be read or written in the file. There are 6 access modes in python.`\n",
    "\n",
    "- **Read Only (‘r’)** : Open text file for reading. The handle is positioned at the beginning of the file. If the file does not exists, raises I/O error. This is also the default mode in which file is opened.\n",
    "\n",
    "- **Read and Write (‘r+’)** : Open the file for reading and writing. The handle is positioned at the beginning of the file. Raises I/O error if the file does not exists.\n",
    "\n",
    "- **Write Only (‘w’)** : Open the file for writing. For existing file, the data is truncated and over-written. The handle is positioned at the beginning of the file. Creates the file if the file does not exists.\n",
    "\n",
    "- **Write and Read (‘w+’)** : Open the file for reading and writing. For existing file, data is truncated and over-written. The handle is positioned at the beginning of the file.\n",
    "\n",
    "- **Append Only (‘a’)** : Open the file for writing. The file is created if it does not exist. The handle is positioned at the end of the file. The data being written will be inserted at the end, after the existing data.\n",
    "\n",
    "- **Append and Read (‘a+’)** : Open the file for reading and writing. The file is created if it does not exist. The handle is positioned at the end of the file. The data being written will be inserted at the end, after the existing data"
   ]
  },
  {
   "cell_type": "markdown",
   "id": "9903a881",
   "metadata": {},
   "source": [
    "## Text Files"
   ]
  },
  {
   "cell_type": "markdown",
   "id": "c50f2c18",
   "metadata": {},
   "source": [
    "### Opening a file"
   ]
  },
  {
   "cell_type": "code",
   "execution_count": 38,
   "id": "06ee3fe3",
   "metadata": {},
   "outputs": [],
   "source": [
    "file = open(\"hello.txt\",\"r\");"
   ]
  },
  {
   "cell_type": "code",
   "execution_count": 46,
   "id": "be4eb80b",
   "metadata": {},
   "outputs": [
    {
     "name": "stdout",
     "output_type": "stream",
     "text": [
      "<_io.TextIOWrapper name='something.txt' mode='w' encoding='UTF-8'>\n"
     ]
    },
    {
     "ename": "UnsupportedOperation",
     "evalue": "not readable",
     "output_type": "error",
     "traceback": [
      "\u001b[0;31m---------------------------------------------------------------------------\u001b[0m",
      "\u001b[0;31mUnsupportedOperation\u001b[0m                      Traceback (most recent call last)",
      "Input \u001b[0;32mIn [46]\u001b[0m, in \u001b[0;36m<cell line: 2>\u001b[0;34m()\u001b[0m\n\u001b[1;32m      1\u001b[0m \u001b[38;5;28mprint\u001b[39m(file)\n\u001b[0;32m----> 2\u001b[0m \u001b[38;5;28mprint\u001b[39m(\u001b[43mfile\u001b[49m\u001b[38;5;241;43m.\u001b[39;49m\u001b[43mread\u001b[49m\u001b[43m(\u001b[49m\u001b[43m)\u001b[49m)\n",
      "\u001b[0;31mUnsupportedOperation\u001b[0m: not readable"
     ]
    }
   ],
   "source": [
    "print(file)\n",
    "print(file.read())"
   ]
  },
  {
   "cell_type": "code",
   "execution_count": 53,
   "id": "1b40b363",
   "metadata": {},
   "outputs": [
    {
     "name": "stdout",
     "output_type": "stream",
     "text": [
      "\n"
     ]
    }
   ],
   "source": [
    "print(file.read(4))\n",
    "file.close()"
   ]
  },
  {
   "cell_type": "markdown",
   "id": "703087a5",
   "metadata": {},
   "source": [
    "### Reading a file methods\n",
    "- read - returns the whole file\n",
    "- readline - Reads the file line by line and every time we call it it returns a line \n",
    "- readlines - reads the whole file in 1 go but returns a list of lines of file"
   ]
  },
  {
   "cell_type": "code",
   "execution_count": 55,
   "id": "5fd3ef05",
   "metadata": {},
   "outputs": [],
   "source": [
    "file = open(\"hello.txt\",\"r\")"
   ]
  },
  {
   "cell_type": "code",
   "execution_count": 63,
   "id": "83ca6ddd",
   "metadata": {},
   "outputs": [
    {
     "ename": "ValueError",
     "evalue": "I/O operation on closed file.",
     "output_type": "error",
     "traceback": [
      "\u001b[0;31m---------------------------------------------------------------------------\u001b[0m",
      "\u001b[0;31mValueError\u001b[0m                                Traceback (most recent call last)",
      "Input \u001b[0;32mIn [63]\u001b[0m, in \u001b[0;36m<cell line: 1>\u001b[0;34m()\u001b[0m\n\u001b[0;32m----> 1\u001b[0m \u001b[43mfile\u001b[49m\u001b[38;5;241;43m.\u001b[39;49m\u001b[43mreadline\u001b[49m\u001b[43m(\u001b[49m\u001b[43m)\u001b[49m\n",
      "\u001b[0;31mValueError\u001b[0m: I/O operation on closed file."
     ]
    }
   ],
   "source": [
    "file.readline()"
   ]
  },
  {
   "cell_type": "code",
   "execution_count": 62,
   "id": "5951fa0c",
   "metadata": {},
   "outputs": [],
   "source": [
    "file.close()"
   ]
  },
  {
   "cell_type": "code",
   "execution_count": 64,
   "id": "050ed119",
   "metadata": {},
   "outputs": [],
   "source": [
    "file = open(\"hello.txt\",\"r\")"
   ]
  },
  {
   "cell_type": "code",
   "execution_count": 65,
   "id": "27cce42d",
   "metadata": {},
   "outputs": [
    {
     "data": {
      "text/plain": [
       "['Hello, I am Rajan!\\n',\n",
       " 'This is 2nd line\\n',\n",
       " 'this is 3rd line\\n',\n",
       " 'this is 4th line']"
      ]
     },
     "execution_count": 65,
     "metadata": {},
     "output_type": "execute_result"
    }
   ],
   "source": [
    "file.readlines()"
   ]
  },
  {
   "cell_type": "code",
   "execution_count": 66,
   "id": "aba2aa90",
   "metadata": {},
   "outputs": [],
   "source": [
    "file.close()"
   ]
  },
  {
   "cell_type": "code",
   "execution_count": null,
   "id": "2d4802af",
   "metadata": {},
   "outputs": [],
   "source": []
  },
  {
   "cell_type": "markdown",
   "id": "c9582e1a",
   "metadata": {},
   "source": [
    "### Writing in a file"
   ]
  },
  {
   "cell_type": "code",
   "execution_count": 51,
   "id": "1a098763",
   "metadata": {},
   "outputs": [],
   "source": [
    "file = open(\"something.txt\",\"w+\")"
   ]
  },
  {
   "cell_type": "code",
   "execution_count": 52,
   "id": "c55d04e3",
   "metadata": {},
   "outputs": [
    {
     "data": {
      "text/plain": [
       "31"
      ]
     },
     "execution_count": 52,
     "metadata": {},
     "output_type": "execute_result"
    }
   ],
   "source": [
    "file.write(\"HELLO THIS is a written in file\") # it returns the no. bytes written in file"
   ]
  },
  {
   "cell_type": "code",
   "execution_count": 43,
   "id": "035d5b02",
   "metadata": {},
   "outputs": [],
   "source": [
    "file.close()"
   ]
  },
  {
   "cell_type": "markdown",
   "id": "62b0dc93",
   "metadata": {},
   "source": [
    "### Moving the cursor"
   ]
  },
  {
   "cell_type": "markdown",
   "id": "0f41763d",
   "metadata": {},
   "source": [
    "- seek(idx) - takes the file pointer/idx to the specified idx"
   ]
  },
  {
   "cell_type": "code",
   "execution_count": 79,
   "id": "e5f8c93a",
   "metadata": {},
   "outputs": [],
   "source": [
    "file = open(\"hello.txt\",\"r\")"
   ]
  },
  {
   "cell_type": "code",
   "execution_count": 86,
   "id": "bddae6fa",
   "metadata": {},
   "outputs": [
    {
     "data": {
      "text/plain": [
       "'Hello, I a'"
      ]
     },
     "execution_count": 86,
     "metadata": {},
     "output_type": "execute_result"
    }
   ],
   "source": [
    "file.read(10)"
   ]
  },
  {
   "cell_type": "code",
   "execution_count": 85,
   "id": "87097b86",
   "metadata": {},
   "outputs": [
    {
     "data": {
      "text/plain": [
       "0"
      ]
     },
     "execution_count": 85,
     "metadata": {},
     "output_type": "execute_result"
    }
   ],
   "source": [
    "file.seek(0) # moves the file pointer again at 0th idx"
   ]
  },
  {
   "cell_type": "code",
   "execution_count": 87,
   "id": "1a0ea6d3",
   "metadata": {},
   "outputs": [],
   "source": [
    "file.close()"
   ]
  },
  {
   "cell_type": "markdown",
   "id": "f31bb09c",
   "metadata": {},
   "source": [
    "### Smarter way of opening files...\n",
    "- With the \"with\" statement, you get better syntax and exceptions handling.\n",
    "\n",
    "\"The with statement simplifies exception handling by encapsulating common preparation and cleanup tasks.\"\n",
    "\n",
    "In addition, it will automatically close the file. The with statement provides a way for ensuring that a clean-up is always used.\n",
    "\n",
    "outside the with block file can't be accessed"
   ]
  },
  {
   "cell_type": "code",
   "execution_count": 94,
   "id": "e4b2b3cf",
   "metadata": {},
   "outputs": [
    {
     "name": "stdout",
     "output_type": "stream",
     "text": [
      "Hello, I am Rajan!\n",
      "This is 2nd line\n",
      "this is 3rd line\n",
      "this is 4th line\n"
     ]
    }
   ],
   "source": [
    "with open(\"hello.txt\",\"r\") as file:\n",
    "    print(file.read())\n",
    "    \n",
    "# file.read() # here it will throw an error"
   ]
  },
  {
   "cell_type": "markdown",
   "id": "d4d159bf",
   "metadata": {},
   "source": [
    "### JSON files\n",
    "Javascript Object Notation abbreviated as JSON is a light-weight data interchange format. It Encode Python objects as JSON strings, and decode JSON strings into Python objects"
   ]
  },
  {
   "cell_type": "markdown",
   "id": "6171d732",
   "metadata": {},
   "source": [
    "- **json.dump(obj, fileObj)** : Serializes obj as a JSON formatted stream to fileObj or to write json in a file\n",
    "- **json.dumps(obj)** : Serializes obj as JSON formatted string.\n",
    "- **json.load(JSONfile)** : De-serializes JSONfile to a Python object.\n",
    "- **json.loads(JSONfile)** : De-serializes JSONfile(type: string) to a Python object."
   ]
  },
  {
   "cell_type": "code",
   "execution_count": 109,
   "id": "ce5af60f",
   "metadata": {},
   "outputs": [
    {
     "name": "stdout",
     "output_type": "stream",
     "text": [
      "{\n",
      "    \"name\": \"Rajan\",\n",
      "    \"last_name\": \"Walia\",\n",
      "    \"marks\": {\n",
      "        \"english\": 99,\n",
      "        \"maths\": 100\n",
      "    },\n",
      "    \"fav_colors\" : [\"red\", \"black\", \"blue\"]\n",
      "}\n"
     ]
    }
   ],
   "source": [
    "with open(\"student.json\",\"r\") as file:\n",
    "    print(file.read()) # but this can't be indexed"
   ]
  },
  {
   "cell_type": "code",
   "execution_count": 110,
   "id": "610e59c1",
   "metadata": {},
   "outputs": [],
   "source": [
    "import json"
   ]
  },
  {
   "cell_type": "code",
   "execution_count": 114,
   "id": "a3e3cc97",
   "metadata": {},
   "outputs": [
    {
     "name": "stdout",
     "output_type": "stream",
     "text": [
      "<class 'dict'>\n",
      "{'name': 'Rajan', 'last_name': 'Walia', 'marks': {'english': 99, 'maths': 100}, 'fav_colors': ['red', 'black', 'blue']}\n",
      "Rajan\n",
      "{'english': 99, 'maths': 100}\n",
      "black\n"
     ]
    }
   ],
   "source": [
    "with open(\"student.json\") as file:\n",
    "    data = json.load(file)\n",
    "    print(type(data))\n",
    "    print(data)\n",
    "    print(data[\"name\"])\n",
    "    print(data[\"marks\"])\n",
    "    print(data[\"fav_colors\"][1])"
   ]
  },
  {
   "cell_type": "code",
   "execution_count": 119,
   "id": "45f5dc4c",
   "metadata": {},
   "outputs": [
    {
     "name": "stdout",
     "output_type": "stream",
     "text": [
      "<class 'str'>\n",
      "{\n",
      "    \"name\": \"Rajan\",\n",
      "    \"last_name\": \"Walia\",\n",
      "    \"marks\": {\n",
      "        \"english\": 99,\n",
      "        \"maths\": 100\n",
      "    },\n",
      "    \"fav_colors\" : [\"red\", \"black\", \"blue\"]\n",
      "}\n",
      "<class 'dict'>\n",
      "{'name': 'Rajan', 'last_name': 'Walia', 'marks': {'english': 99, 'maths': 100}, 'fav_colors': ['red', 'black', 'blue']}\n"
     ]
    }
   ],
   "source": [
    "with open(\"student.json\") as file:\n",
    "    data = file.read()\n",
    "    print(type(data))\n",
    "    print(data)\n",
    "    data = json.loads(data) # converts the json string to json object/dictionary\n",
    "    print(type(data))\n",
    "    print(data)"
   ]
  },
  {
   "cell_type": "code",
   "execution_count": 120,
   "id": "2bb71dcc",
   "metadata": {},
   "outputs": [],
   "source": [
    "d = {'name': 'Rajan', 'last_name': 'Walia', 'marks': {'english': 99, 'maths': 100}, 'fav_colors': ['red', 'black', 'blue']}"
   ]
  },
  {
   "cell_type": "code",
   "execution_count": 124,
   "id": "376fc4c4",
   "metadata": {},
   "outputs": [
    {
     "name": "stdout",
     "output_type": "stream",
     "text": [
      "<class 'str'>\n"
     ]
    }
   ],
   "source": [
    "string = json.dumps(d)\n",
    "print(type(string))"
   ]
  },
  {
   "cell_type": "code",
   "execution_count": 129,
   "id": "85bb413f",
   "metadata": {},
   "outputs": [],
   "source": [
    "with open(\"data2.json\",\"w\") as file:\n",
    "    json.dump(d,file)"
   ]
  },
  {
   "cell_type": "code",
   "execution_count": null,
   "id": "77d4b042",
   "metadata": {},
   "outputs": [],
   "source": []
  }
 ],
 "metadata": {
  "kernelspec": {
   "display_name": "Python 3 (ipykernel)",
   "language": "python",
   "name": "python3"
  },
  "language_info": {
   "codemirror_mode": {
    "name": "ipython",
    "version": 3
   },
   "file_extension": ".py",
   "mimetype": "text/x-python",
   "name": "python",
   "nbconvert_exporter": "python",
   "pygments_lexer": "ipython3",
   "version": "3.9.15"
  }
 },
 "nbformat": 4,
 "nbformat_minor": 5
}
