{
 "cells": [
  {
   "cell_type": "code",
   "execution_count": null,
   "id": "a195457a",
   "metadata": {},
   "outputs": [],
   "source": [
    "\"rsds\""
   ]
  }
 ],
 "metadata": {
  "kernelspec": {
   "display_name": "Python 3",
   "language": "python",
   "name": "python3"
  },
  "language_info": {
   "name": "python",
   "version": "3.12.3"
  }
 },
 "nbformat": 4,
 "nbformat_minor": 5
}
